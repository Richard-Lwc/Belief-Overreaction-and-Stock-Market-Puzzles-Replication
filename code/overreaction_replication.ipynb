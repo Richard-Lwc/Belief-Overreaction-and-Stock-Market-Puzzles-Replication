{
 "cells": [
  {
   "cell_type": "code",
   "execution_count": 1,
   "metadata": {
    "collapsed": true
   },
   "outputs": [],
   "source": [
    "import pandas as pd\n",
    "import numpy as np\n",
    "import matplotlib.pyplot as plt\n",
    "from datetime import datetime\n",
    "import os"
   ]
  },
  {
   "cell_type": "code",
   "execution_count": 2,
   "outputs": [],
   "source": [
    "cd = \"C:\\\\Users\\\\ASUS\\\\Desktop\\\\Overreaction_replication\""
   ],
   "metadata": {
    "collapsed": false
   }
  },
  {
   "cell_type": "code",
   "execution_count": 3,
   "outputs": [
    {
     "data": {
      "text/plain": "['.Rhistory',\n '1-year treasury yield.csv',\n 'AAA.csv',\n 'BAA.csv',\n 'Belief overreaction and stock market puzzles Replication.docx',\n 'bias_portfolio_return.csv',\n 'bias_portfolio_return.dta',\n 'code',\n 'compustat.csv',\n 'CPILFESL.csv',\n 'CRSP.csv',\n 'economic policy uncertainty index.csv',\n 'EPS_compustat.csv',\n 'FF5_data.csv',\n 'FF_5.csv',\n 'financial_ratio.csv',\n 'firm_level_data.csv',\n 'IBES.csv',\n 'IBES_ACTUAL.csv',\n 'Inflation.csv',\n 'link_data.csv',\n 'Long-Term Government Bond Yields.csv',\n 'LTG_portfolio_return.dta',\n 'MULTPL-SHILLER_PE_RATIO_MONTH.csv',\n 'MULTPL-SP500_DIV_YIELD_MONTH.csv',\n 'MULTPL-SP500_INFLADJ_MONTH.csv',\n 'MULTPL-SP500_PE_RATIO_MONTH.csv',\n 'refine_compustat.csv',\n 'Result',\n 'sp500.csv',\n 'sp500_data.csv',\n 'sp500_index.csv',\n 'standard.csv',\n 'SVIX2.csv',\n 'SVIX2.xls',\n 'table1_panelA.docx',\n 'table1_panelB.docx',\n 'table1_panelC.docx',\n 'table2_panelA_1.docx',\n 'table2_panelA_3.docx',\n 'table2_panelA_5.docx',\n 'table2_panelB_1.docx',\n 'table2_panelB_3.docx',\n 'table2_panelB_5.docx',\n 'table3.docx',\n 'table4.docx',\n 'table4_1.docx',\n 'table4_3.docx',\n 'table4_5.docx',\n 'table5.docx',\n 'table6.docx',\n 'table7_3.docx',\n 'table7_5.docx',\n 'table8.docx',\n 'table9_panelA.docx',\n 'table9_panelB.docx']"
     },
     "execution_count": 3,
     "metadata": {},
     "output_type": "execute_result"
    }
   ],
   "source": [
    "os.listdir(cd)"
   ],
   "metadata": {
    "collapsed": false
   }
  },
  {
   "cell_type": "code",
   "execution_count": 4,
   "outputs": [],
   "source": [
    "os.chdir(cd)"
   ],
   "metadata": {
    "collapsed": false
   }
  },
  {
   "cell_type": "markdown",
   "source": [
    "## S&P500 data"
   ],
   "metadata": {
    "collapsed": false
   }
  },
  {
   "cell_type": "code",
   "execution_count": 5,
   "outputs": [],
   "source": [
    "data = pd.read_csv('sp500_data.csv')"
   ],
   "metadata": {
    "collapsed": false
   }
  },
  {
   "cell_type": "code",
   "execution_count": 6,
   "outputs": [
    {
     "data": {
      "text/plain": "           date  rankdate       LTG  EPS_same_base       EPS     EPS_1  \\\n0    1981-12-31    198112  0.134848       0.120275  0.021736  0.014687   \n1    1982-01-29    198201  0.137856       0.120300  0.021738  0.014679   \n2    1982-02-26    198202  0.135461       0.086147  0.014992  0.016001   \n3    1982-03-31    198203  0.134088       0.086577  0.015090  0.016203   \n4    1982-04-30    198204  0.137454       0.085694  0.015082  0.015817   \n..          ...       ...       ...            ...       ...       ...   \n464  2020-08-31    202008  0.111146       0.328078  0.227726  0.146807   \n465  2020-09-30    202009  0.111267       0.327667  0.227507  0.128020   \n466  2020-10-30    202010  0.110321       0.332212  0.233686  0.131456   \n467  2020-11-30    202011  0.119303       0.241500  0.142988  0.137873   \n468  2020-12-31    202012  0.208772       0.235244  0.139798  0.136154   \n\n        EPS_2     EPS_3     EPS_4     EPS_5  ...  delta_LTG  forecast_error  \\\n0    0.017453  0.016973  0.019160  0.021664  ...        NaN       -0.134990   \n1    0.017367  0.018145  0.020553  0.023327  ...        NaN       -0.132591   \n2    0.019101  0.020099  0.022771  0.025847  ...        NaN       -0.116128   \n3    0.019189  0.020180  0.022837  0.025888  ...        NaN       -0.142342   \n4    0.018980  0.020095  0.022828  0.025995  ...        NaN       -0.139292   \n..        ...       ...       ...       ...  ...        ...             ...   \n464  0.185391  0.213238  0.223829  0.244574  ...  -0.020844             NaN   \n465  0.162646  0.189234  0.201482  0.221129  ...  -0.015849             NaN   \n466  0.164931  0.191634  0.204860  0.224725  ...  -0.014983             NaN   \n467  0.167490  0.194547  0.208777  0.229903  ...   0.000813             NaN   \n468  0.165874  0.192546  0.209741  0.231225  ...   0.104731             NaN   \n\n        e_cae        dp        pe  SVIX  term_spread  credit_spread  \\\n0         NaN -2.926206  2.086914   NaN     0.065511       0.151034   \n1         NaN -2.868219  2.045109   NaN     0.018679       0.119100   \n2         NaN -2.840439  2.033398   NaN    -0.020577       0.117856   \n3    2.539557 -2.803460  2.012233   NaN    -0.006473       0.142918   \n4    1.889072 -2.847312  2.075684   NaN    -0.007900       0.148801   \n..        ...       ...       ...   ...          ...            ...   \n464 -0.007953 -4.051285  3.538347   NaN     1.609438       0.373860   \n465  0.190718 -4.045554  3.534270   NaN     1.654558       0.374693   \n466  0.449424 -4.062846  3.563883   NaN     1.804498       0.381056   \n467  0.457445 -4.104395  3.615233   NaN     1.981001       0.361013   \n468  0.428804 -4.147745  3.670206   NaN     2.230014       0.335207   \n\n     USEPUINDXM  INFCPI1YR  \n0           NaN       7.70  \n1           NaN       6.62  \n2           NaN       6.62  \n3           NaN       6.62  \n4           NaN       6.04  \n..          ...        ...  \n464   224.42637       1.77  \n465   218.05829       1.77  \n466   249.17362       2.07  \n467   246.70710       2.07  \n468   246.12610       2.07  \n\n[469 rows x 30 columns]",
      "text/html": "<div>\n<style scoped>\n    .dataframe tbody tr th:only-of-type {\n        vertical-align: middle;\n    }\n\n    .dataframe tbody tr th {\n        vertical-align: top;\n    }\n\n    .dataframe thead th {\n        text-align: right;\n    }\n</style>\n<table border=\"1\" class=\"dataframe\">\n  <thead>\n    <tr style=\"text-align: right;\">\n      <th></th>\n      <th>date</th>\n      <th>rankdate</th>\n      <th>LTG</th>\n      <th>EPS_same_base</th>\n      <th>EPS</th>\n      <th>EPS_1</th>\n      <th>EPS_2</th>\n      <th>EPS_3</th>\n      <th>EPS_4</th>\n      <th>EPS_5</th>\n      <th>...</th>\n      <th>delta_LTG</th>\n      <th>forecast_error</th>\n      <th>e_cae</th>\n      <th>dp</th>\n      <th>pe</th>\n      <th>SVIX</th>\n      <th>term_spread</th>\n      <th>credit_spread</th>\n      <th>USEPUINDXM</th>\n      <th>INFCPI1YR</th>\n    </tr>\n  </thead>\n  <tbody>\n    <tr>\n      <th>0</th>\n      <td>1981-12-31</td>\n      <td>198112</td>\n      <td>0.134848</td>\n      <td>0.120275</td>\n      <td>0.021736</td>\n      <td>0.014687</td>\n      <td>0.017453</td>\n      <td>0.016973</td>\n      <td>0.019160</td>\n      <td>0.021664</td>\n      <td>...</td>\n      <td>NaN</td>\n      <td>-0.134990</td>\n      <td>NaN</td>\n      <td>-2.926206</td>\n      <td>2.086914</td>\n      <td>NaN</td>\n      <td>0.065511</td>\n      <td>0.151034</td>\n      <td>NaN</td>\n      <td>7.70</td>\n    </tr>\n    <tr>\n      <th>1</th>\n      <td>1982-01-29</td>\n      <td>198201</td>\n      <td>0.137856</td>\n      <td>0.120300</td>\n      <td>0.021738</td>\n      <td>0.014679</td>\n      <td>0.017367</td>\n      <td>0.018145</td>\n      <td>0.020553</td>\n      <td>0.023327</td>\n      <td>...</td>\n      <td>NaN</td>\n      <td>-0.132591</td>\n      <td>NaN</td>\n      <td>-2.868219</td>\n      <td>2.045109</td>\n      <td>NaN</td>\n      <td>0.018679</td>\n      <td>0.119100</td>\n      <td>NaN</td>\n      <td>6.62</td>\n    </tr>\n    <tr>\n      <th>2</th>\n      <td>1982-02-26</td>\n      <td>198202</td>\n      <td>0.135461</td>\n      <td>0.086147</td>\n      <td>0.014992</td>\n      <td>0.016001</td>\n      <td>0.019101</td>\n      <td>0.020099</td>\n      <td>0.022771</td>\n      <td>0.025847</td>\n      <td>...</td>\n      <td>NaN</td>\n      <td>-0.116128</td>\n      <td>NaN</td>\n      <td>-2.840439</td>\n      <td>2.033398</td>\n      <td>NaN</td>\n      <td>-0.020577</td>\n      <td>0.117856</td>\n      <td>NaN</td>\n      <td>6.62</td>\n    </tr>\n    <tr>\n      <th>3</th>\n      <td>1982-03-31</td>\n      <td>198203</td>\n      <td>0.134088</td>\n      <td>0.086577</td>\n      <td>0.015090</td>\n      <td>0.016203</td>\n      <td>0.019189</td>\n      <td>0.020180</td>\n      <td>0.022837</td>\n      <td>0.025888</td>\n      <td>...</td>\n      <td>NaN</td>\n      <td>-0.142342</td>\n      <td>2.539557</td>\n      <td>-2.803460</td>\n      <td>2.012233</td>\n      <td>NaN</td>\n      <td>-0.006473</td>\n      <td>0.142918</td>\n      <td>NaN</td>\n      <td>6.62</td>\n    </tr>\n    <tr>\n      <th>4</th>\n      <td>1982-04-30</td>\n      <td>198204</td>\n      <td>0.137454</td>\n      <td>0.085694</td>\n      <td>0.015082</td>\n      <td>0.015817</td>\n      <td>0.018980</td>\n      <td>0.020095</td>\n      <td>0.022828</td>\n      <td>0.025995</td>\n      <td>...</td>\n      <td>NaN</td>\n      <td>-0.139292</td>\n      <td>1.889072</td>\n      <td>-2.847312</td>\n      <td>2.075684</td>\n      <td>NaN</td>\n      <td>-0.007900</td>\n      <td>0.148801</td>\n      <td>NaN</td>\n      <td>6.04</td>\n    </tr>\n    <tr>\n      <th>...</th>\n      <td>...</td>\n      <td>...</td>\n      <td>...</td>\n      <td>...</td>\n      <td>...</td>\n      <td>...</td>\n      <td>...</td>\n      <td>...</td>\n      <td>...</td>\n      <td>...</td>\n      <td>...</td>\n      <td>...</td>\n      <td>...</td>\n      <td>...</td>\n      <td>...</td>\n      <td>...</td>\n      <td>...</td>\n      <td>...</td>\n      <td>...</td>\n      <td>...</td>\n      <td>...</td>\n    </tr>\n    <tr>\n      <th>464</th>\n      <td>2020-08-31</td>\n      <td>202008</td>\n      <td>0.111146</td>\n      <td>0.328078</td>\n      <td>0.227726</td>\n      <td>0.146807</td>\n      <td>0.185391</td>\n      <td>0.213238</td>\n      <td>0.223829</td>\n      <td>0.244574</td>\n      <td>...</td>\n      <td>-0.020844</td>\n      <td>NaN</td>\n      <td>-0.007953</td>\n      <td>-4.051285</td>\n      <td>3.538347</td>\n      <td>NaN</td>\n      <td>1.609438</td>\n      <td>0.373860</td>\n      <td>224.42637</td>\n      <td>1.77</td>\n    </tr>\n    <tr>\n      <th>465</th>\n      <td>2020-09-30</td>\n      <td>202009</td>\n      <td>0.111267</td>\n      <td>0.327667</td>\n      <td>0.227507</td>\n      <td>0.128020</td>\n      <td>0.162646</td>\n      <td>0.189234</td>\n      <td>0.201482</td>\n      <td>0.221129</td>\n      <td>...</td>\n      <td>-0.015849</td>\n      <td>NaN</td>\n      <td>0.190718</td>\n      <td>-4.045554</td>\n      <td>3.534270</td>\n      <td>NaN</td>\n      <td>1.654558</td>\n      <td>0.374693</td>\n      <td>218.05829</td>\n      <td>1.77</td>\n    </tr>\n    <tr>\n      <th>466</th>\n      <td>2020-10-30</td>\n      <td>202010</td>\n      <td>0.110321</td>\n      <td>0.332212</td>\n      <td>0.233686</td>\n      <td>0.131456</td>\n      <td>0.164931</td>\n      <td>0.191634</td>\n      <td>0.204860</td>\n      <td>0.224725</td>\n      <td>...</td>\n      <td>-0.014983</td>\n      <td>NaN</td>\n      <td>0.449424</td>\n      <td>-4.062846</td>\n      <td>3.563883</td>\n      <td>NaN</td>\n      <td>1.804498</td>\n      <td>0.381056</td>\n      <td>249.17362</td>\n      <td>2.07</td>\n    </tr>\n    <tr>\n      <th>467</th>\n      <td>2020-11-30</td>\n      <td>202011</td>\n      <td>0.119303</td>\n      <td>0.241500</td>\n      <td>0.142988</td>\n      <td>0.137873</td>\n      <td>0.167490</td>\n      <td>0.194547</td>\n      <td>0.208777</td>\n      <td>0.229903</td>\n      <td>...</td>\n      <td>0.000813</td>\n      <td>NaN</td>\n      <td>0.457445</td>\n      <td>-4.104395</td>\n      <td>3.615233</td>\n      <td>NaN</td>\n      <td>1.981001</td>\n      <td>0.361013</td>\n      <td>246.70710</td>\n      <td>2.07</td>\n    </tr>\n    <tr>\n      <th>468</th>\n      <td>2020-12-31</td>\n      <td>202012</td>\n      <td>0.208772</td>\n      <td>0.235244</td>\n      <td>0.139798</td>\n      <td>0.136154</td>\n      <td>0.165874</td>\n      <td>0.192546</td>\n      <td>0.209741</td>\n      <td>0.231225</td>\n      <td>...</td>\n      <td>0.104731</td>\n      <td>NaN</td>\n      <td>0.428804</td>\n      <td>-4.147745</td>\n      <td>3.670206</td>\n      <td>NaN</td>\n      <td>2.230014</td>\n      <td>0.335207</td>\n      <td>246.12610</td>\n      <td>2.07</td>\n    </tr>\n  </tbody>\n</table>\n<p>469 rows × 30 columns</p>\n</div>"
     },
     "execution_count": 6,
     "metadata": {},
     "output_type": "execute_result"
    }
   ],
   "source": [
    "data"
   ],
   "metadata": {
    "collapsed": false
   }
  },
  {
   "cell_type": "code",
   "execution_count": 7,
   "outputs": [],
   "source": [
    "for horizon in range(1, 6):\n",
    "    name = 'return_' + str(horizon)\n",
    "    data[name] = data['return'].rolling(12 * horizon).sum().shift(-12 * horizon)"
   ],
   "metadata": {
    "collapsed": false
   }
  },
  {
   "cell_type": "code",
   "execution_count": 8,
   "outputs": [],
   "source": [
    "data['return_1_3'] = data['return_1'] + 0.9775926 * data['return_2'] + 0.9775926 ** 2 * data['return_3']"
   ],
   "metadata": {
    "collapsed": false
   }
  },
  {
   "cell_type": "code",
   "execution_count": 9,
   "outputs": [],
   "source": [
    "data['return_1_5'] = data['return_1_3'] + 0.9775926 ** 3 * data['return_4'] + 0.9775926 ** 4 * data['return_5']"
   ],
   "metadata": {
    "collapsed": false
   }
  },
  {
   "cell_type": "code",
   "execution_count": 10,
   "outputs": [],
   "source": [
    "# For table 5\n",
    "data['forecast_error_m1'] = data['forecast_error'].shift(12)\n",
    "data['forecast_error_m2'] = data['forecast_error'].shift(24)\n",
    "data['forecast_error_m3'] = data['forecast_error'].shift(36)\n",
    "data['forecast_error_m4'] = data['forecast_error'].shift(48)\n",
    "\n",
    "data['delta_LTG_1'] = data['delta_LTG'].shift(-12)\n",
    "data['delta_LTG_2'] = data['delta_LTG'].shift(-24)\n",
    "data['delta_LTG_3'] = data['delta_LTG'].shift(-36)\n",
    "data['delta_LTG_4'] = data['delta_LTG'].shift(-48)\n",
    "data['delta_LTG_5'] = data['delta_LTG'].shift(-60)"
   ],
   "metadata": {
    "collapsed": false
   }
  },
  {
   "cell_type": "code",
   "execution_count": 11,
   "outputs": [],
   "source": [
    "data.to_csv('sp500_data.csv', index=False)"
   ],
   "metadata": {
    "collapsed": false
   }
  },
  {
   "cell_type": "code",
   "execution_count": 12,
   "outputs": [
    {
     "data": {
      "text/plain": "           date  rankdate       LTG  EPS_same_base       EPS     EPS_1  \\\n0    1981-12-31    198112  0.134848       0.120275  0.021736  0.014687   \n1    1982-01-29    198201  0.137856       0.120300  0.021738  0.014679   \n2    1982-02-26    198202  0.135461       0.086147  0.014992  0.016001   \n3    1982-03-31    198203  0.134088       0.086577  0.015090  0.016203   \n4    1982-04-30    198204  0.137454       0.085694  0.015082  0.015817   \n..          ...       ...       ...            ...       ...       ...   \n464  2020-08-31    202008  0.111146       0.328078  0.227726  0.146807   \n465  2020-09-30    202009  0.111267       0.327667  0.227507  0.128020   \n466  2020-10-30    202010  0.110321       0.332212  0.233686  0.131456   \n467  2020-11-30    202011  0.119303       0.241500  0.142988  0.137873   \n468  2020-12-31    202012  0.208772       0.235244  0.139798  0.136154   \n\n        EPS_2     EPS_3     EPS_4     EPS_5  ...  return_1_5  \\\n0    0.017453  0.016973  0.019160  0.021664  ...    1.856124   \n1    0.017367  0.018145  0.020553  0.023327  ...    2.147854   \n2    0.019101  0.020099  0.022771  0.025847  ...    2.532424   \n3    0.019189  0.020180  0.022837  0.025888  ...    2.696003   \n4    0.018980  0.020095  0.022828  0.025995  ...    2.557772   \n..        ...       ...       ...       ...  ...         ...   \n464  0.185391  0.213238  0.223829  0.244574  ...         NaN   \n465  0.162646  0.189234  0.201482  0.221129  ...         NaN   \n466  0.164931  0.191634  0.204860  0.224725  ...         NaN   \n467  0.167490  0.194547  0.208777  0.229903  ...         NaN   \n468  0.165874  0.192546  0.209741  0.231225  ...         NaN   \n\n     forecast_error_m1  forecast_error_m2  forecast_error_m3  \\\n0                  NaN                NaN                NaN   \n1                  NaN                NaN                NaN   \n2                  NaN                NaN                NaN   \n3                  NaN                NaN                NaN   \n4                  NaN                NaN                NaN   \n..                 ...                ...                ...   \n464                NaN                NaN                NaN   \n465                NaN                NaN                NaN   \n466                NaN                NaN                NaN   \n467                NaN                NaN                NaN   \n468                NaN                NaN                NaN   \n\n     forecast_error_m4  delta_LTG_1  delta_LTG_2  delta_LTG_3  delta_LTG_4  \\\n0                  NaN    -0.008387    -0.001760    -0.006031    -0.005391   \n1                  NaN    -0.012181    -0.003120    -0.003085    -0.005614   \n2                  NaN    -0.009370    -0.001654    -0.006018    -0.004148   \n3                  NaN    -0.007178    -0.005280    -0.004735    -0.005231   \n4                  NaN    -0.010640    -0.005777    -0.006621    -0.002297   \n..                 ...          ...          ...          ...          ...   \n464                NaN          NaN          NaN          NaN          NaN   \n465                NaN          NaN          NaN          NaN          NaN   \n466                NaN          NaN          NaN          NaN          NaN   \n467                NaN          NaN          NaN          NaN          NaN   \n468                NaN          NaN          NaN          NaN          NaN   \n\n     delta_LTG_5  \n0      -0.003825  \n1      -0.004011  \n2      -0.002379  \n3      -0.000672  \n4      -0.001086  \n..           ...  \n464          NaN  \n465          NaN  \n466          NaN  \n467          NaN  \n468          NaN  \n\n[469 rows x 46 columns]",
      "text/html": "<div>\n<style scoped>\n    .dataframe tbody tr th:only-of-type {\n        vertical-align: middle;\n    }\n\n    .dataframe tbody tr th {\n        vertical-align: top;\n    }\n\n    .dataframe thead th {\n        text-align: right;\n    }\n</style>\n<table border=\"1\" class=\"dataframe\">\n  <thead>\n    <tr style=\"text-align: right;\">\n      <th></th>\n      <th>date</th>\n      <th>rankdate</th>\n      <th>LTG</th>\n      <th>EPS_same_base</th>\n      <th>EPS</th>\n      <th>EPS_1</th>\n      <th>EPS_2</th>\n      <th>EPS_3</th>\n      <th>EPS_4</th>\n      <th>EPS_5</th>\n      <th>...</th>\n      <th>return_1_5</th>\n      <th>forecast_error_m1</th>\n      <th>forecast_error_m2</th>\n      <th>forecast_error_m3</th>\n      <th>forecast_error_m4</th>\n      <th>delta_LTG_1</th>\n      <th>delta_LTG_2</th>\n      <th>delta_LTG_3</th>\n      <th>delta_LTG_4</th>\n      <th>delta_LTG_5</th>\n    </tr>\n  </thead>\n  <tbody>\n    <tr>\n      <th>0</th>\n      <td>1981-12-31</td>\n      <td>198112</td>\n      <td>0.134848</td>\n      <td>0.120275</td>\n      <td>0.021736</td>\n      <td>0.014687</td>\n      <td>0.017453</td>\n      <td>0.016973</td>\n      <td>0.019160</td>\n      <td>0.021664</td>\n      <td>...</td>\n      <td>1.856124</td>\n      <td>NaN</td>\n      <td>NaN</td>\n      <td>NaN</td>\n      <td>NaN</td>\n      <td>-0.008387</td>\n      <td>-0.001760</td>\n      <td>-0.006031</td>\n      <td>-0.005391</td>\n      <td>-0.003825</td>\n    </tr>\n    <tr>\n      <th>1</th>\n      <td>1982-01-29</td>\n      <td>198201</td>\n      <td>0.137856</td>\n      <td>0.120300</td>\n      <td>0.021738</td>\n      <td>0.014679</td>\n      <td>0.017367</td>\n      <td>0.018145</td>\n      <td>0.020553</td>\n      <td>0.023327</td>\n      <td>...</td>\n      <td>2.147854</td>\n      <td>NaN</td>\n      <td>NaN</td>\n      <td>NaN</td>\n      <td>NaN</td>\n      <td>-0.012181</td>\n      <td>-0.003120</td>\n      <td>-0.003085</td>\n      <td>-0.005614</td>\n      <td>-0.004011</td>\n    </tr>\n    <tr>\n      <th>2</th>\n      <td>1982-02-26</td>\n      <td>198202</td>\n      <td>0.135461</td>\n      <td>0.086147</td>\n      <td>0.014992</td>\n      <td>0.016001</td>\n      <td>0.019101</td>\n      <td>0.020099</td>\n      <td>0.022771</td>\n      <td>0.025847</td>\n      <td>...</td>\n      <td>2.532424</td>\n      <td>NaN</td>\n      <td>NaN</td>\n      <td>NaN</td>\n      <td>NaN</td>\n      <td>-0.009370</td>\n      <td>-0.001654</td>\n      <td>-0.006018</td>\n      <td>-0.004148</td>\n      <td>-0.002379</td>\n    </tr>\n    <tr>\n      <th>3</th>\n      <td>1982-03-31</td>\n      <td>198203</td>\n      <td>0.134088</td>\n      <td>0.086577</td>\n      <td>0.015090</td>\n      <td>0.016203</td>\n      <td>0.019189</td>\n      <td>0.020180</td>\n      <td>0.022837</td>\n      <td>0.025888</td>\n      <td>...</td>\n      <td>2.696003</td>\n      <td>NaN</td>\n      <td>NaN</td>\n      <td>NaN</td>\n      <td>NaN</td>\n      <td>-0.007178</td>\n      <td>-0.005280</td>\n      <td>-0.004735</td>\n      <td>-0.005231</td>\n      <td>-0.000672</td>\n    </tr>\n    <tr>\n      <th>4</th>\n      <td>1982-04-30</td>\n      <td>198204</td>\n      <td>0.137454</td>\n      <td>0.085694</td>\n      <td>0.015082</td>\n      <td>0.015817</td>\n      <td>0.018980</td>\n      <td>0.020095</td>\n      <td>0.022828</td>\n      <td>0.025995</td>\n      <td>...</td>\n      <td>2.557772</td>\n      <td>NaN</td>\n      <td>NaN</td>\n      <td>NaN</td>\n      <td>NaN</td>\n      <td>-0.010640</td>\n      <td>-0.005777</td>\n      <td>-0.006621</td>\n      <td>-0.002297</td>\n      <td>-0.001086</td>\n    </tr>\n    <tr>\n      <th>...</th>\n      <td>...</td>\n      <td>...</td>\n      <td>...</td>\n      <td>...</td>\n      <td>...</td>\n      <td>...</td>\n      <td>...</td>\n      <td>...</td>\n      <td>...</td>\n      <td>...</td>\n      <td>...</td>\n      <td>...</td>\n      <td>...</td>\n      <td>...</td>\n      <td>...</td>\n      <td>...</td>\n      <td>...</td>\n      <td>...</td>\n      <td>...</td>\n      <td>...</td>\n      <td>...</td>\n    </tr>\n    <tr>\n      <th>464</th>\n      <td>2020-08-31</td>\n      <td>202008</td>\n      <td>0.111146</td>\n      <td>0.328078</td>\n      <td>0.227726</td>\n      <td>0.146807</td>\n      <td>0.185391</td>\n      <td>0.213238</td>\n      <td>0.223829</td>\n      <td>0.244574</td>\n      <td>...</td>\n      <td>NaN</td>\n      <td>NaN</td>\n      <td>NaN</td>\n      <td>NaN</td>\n      <td>NaN</td>\n      <td>NaN</td>\n      <td>NaN</td>\n      <td>NaN</td>\n      <td>NaN</td>\n      <td>NaN</td>\n    </tr>\n    <tr>\n      <th>465</th>\n      <td>2020-09-30</td>\n      <td>202009</td>\n      <td>0.111267</td>\n      <td>0.327667</td>\n      <td>0.227507</td>\n      <td>0.128020</td>\n      <td>0.162646</td>\n      <td>0.189234</td>\n      <td>0.201482</td>\n      <td>0.221129</td>\n      <td>...</td>\n      <td>NaN</td>\n      <td>NaN</td>\n      <td>NaN</td>\n      <td>NaN</td>\n      <td>NaN</td>\n      <td>NaN</td>\n      <td>NaN</td>\n      <td>NaN</td>\n      <td>NaN</td>\n      <td>NaN</td>\n    </tr>\n    <tr>\n      <th>466</th>\n      <td>2020-10-30</td>\n      <td>202010</td>\n      <td>0.110321</td>\n      <td>0.332212</td>\n      <td>0.233686</td>\n      <td>0.131456</td>\n      <td>0.164931</td>\n      <td>0.191634</td>\n      <td>0.204860</td>\n      <td>0.224725</td>\n      <td>...</td>\n      <td>NaN</td>\n      <td>NaN</td>\n      <td>NaN</td>\n      <td>NaN</td>\n      <td>NaN</td>\n      <td>NaN</td>\n      <td>NaN</td>\n      <td>NaN</td>\n      <td>NaN</td>\n      <td>NaN</td>\n    </tr>\n    <tr>\n      <th>467</th>\n      <td>2020-11-30</td>\n      <td>202011</td>\n      <td>0.119303</td>\n      <td>0.241500</td>\n      <td>0.142988</td>\n      <td>0.137873</td>\n      <td>0.167490</td>\n      <td>0.194547</td>\n      <td>0.208777</td>\n      <td>0.229903</td>\n      <td>...</td>\n      <td>NaN</td>\n      <td>NaN</td>\n      <td>NaN</td>\n      <td>NaN</td>\n      <td>NaN</td>\n      <td>NaN</td>\n      <td>NaN</td>\n      <td>NaN</td>\n      <td>NaN</td>\n      <td>NaN</td>\n    </tr>\n    <tr>\n      <th>468</th>\n      <td>2020-12-31</td>\n      <td>202012</td>\n      <td>0.208772</td>\n      <td>0.235244</td>\n      <td>0.139798</td>\n      <td>0.136154</td>\n      <td>0.165874</td>\n      <td>0.192546</td>\n      <td>0.209741</td>\n      <td>0.231225</td>\n      <td>...</td>\n      <td>NaN</td>\n      <td>NaN</td>\n      <td>NaN</td>\n      <td>NaN</td>\n      <td>NaN</td>\n      <td>NaN</td>\n      <td>NaN</td>\n      <td>NaN</td>\n      <td>NaN</td>\n      <td>NaN</td>\n    </tr>\n  </tbody>\n</table>\n<p>469 rows × 46 columns</p>\n</div>"
     },
     "execution_count": 12,
     "metadata": {},
     "output_type": "execute_result"
    }
   ],
   "source": [
    "data"
   ],
   "metadata": {
    "collapsed": false
   }
  },
  {
   "cell_type": "markdown",
   "source": [
    "## firm_level"
   ],
   "metadata": {
    "collapsed": false
   }
  },
  {
   "cell_type": "code",
   "execution_count": 13,
   "outputs": [],
   "source": [
    "firm_data = pd.read_csv('market_level_data.csv')"
   ],
   "metadata": {
    "collapsed": false
   }
  },
  {
   "cell_type": "code",
   "execution_count": 14,
   "outputs": [
    {
     "data": {
      "text/plain": "        PERMNO        date  rankdate    NCUSIP        PRC       RET  SHROUT  \\\n0        10057  1977-10-31    197710  00462610   11.12500 -0.101010    4410   \n1        10057  1977-11-30    197711  00462610   13.25000  0.204494    4410   \n2        10057  1977-12-30    197712  00462610   12.62500 -0.047170    4410   \n3        10057  1978-01-31    197801  00462610   12.75000  0.009901    4410   \n4        10057  1978-02-28    197802  00462610   13.75000  0.078431    4410   \n...        ...         ...       ...       ...        ...       ...     ...   \n263032   93429  2020-09-30    202009  12503M10   87.74000 -0.044122  108758   \n263033   93429  2020-10-30    202010  12503M10   81.29000 -0.073513  108042   \n263034   93429  2020-11-30    202011  12503M10   91.32000  0.128552  108042   \n263035   93429  2020-12-31    202012  12503M10   93.12000  0.019711  108042   \n263036   93436  2020-12-31    202012  88160R10  705.66998  0.243252  959854   \n\n        CFACSHR    vwretd     CUSIP  ... ann_cfacshr  Year  lag_LTG delta_LTG  \\\n0           1.0 -0.039278  00462610  ...         1.0  1977      NaN       NaN   \n1           1.0  0.045440  00462610  ...         1.0  1977      NaN       NaN   \n2           1.0  0.008223  00462610  ...         1.0  1977      NaN       NaN   \n3           1.0 -0.055199  00462610  ...         1.0  1978      NaN       NaN   \n4           1.0 -0.009275  00462610  ...         1.0  1978      NaN       NaN   \n...         ...       ...       ...  ...         ...   ...      ...       ...   \n263032      1.0 -0.035056  12503M10  ...         1.0  2020   0.0275    0.0005   \n263033      1.0 -0.020178  12503M10  ...         1.0  2020   0.0275    0.0025   \n263034      1.0  0.123707  12503M10  ...         1.0  2020   0.0270    0.0079   \n263035      1.0  0.045048  12503M10  ...         1.0  2020   0.0214    0.0135   \n263036      3.0  0.045048  88160R10  ...         3.0  2020      NaN       NaN   \n\n          EPS            MV      lag_MV   log_RET  forecast_error        pe  \n0        0.65  4.906125e+04         NaN -0.106483             NaN  2.839978  \n1        0.65  5.843250e+04    49061.25  0.186060             NaN  3.014780  \n2        1.08  5.567625e+04    58432.50 -0.048319             NaN  2.458718  \n3        1.08  5.622750e+04    55676.25  0.009852             NaN  2.468570  \n4        1.08  6.063750e+04    56227.50  0.075507             NaN  2.544078  \n...       ...           ...         ...       ...             ...       ...  \n263032   3.35  9.542427e+06  9982896.82 -0.045125             NaN  3.265418  \n263033   3.35  8.782734e+06  9542426.92 -0.076355             NaN  3.189063  \n263034   3.35  9.866395e+06  8782734.18  0.120935             NaN  3.305409  \n263035   3.35  1.006087e+07  9866395.44  0.019519             NaN  3.324929  \n263036 -14.76  6.773402e+08         NaN  0.217731             NaN       NaN  \n\n[263037 rows x 31 columns]",
      "text/html": "<div>\n<style scoped>\n    .dataframe tbody tr th:only-of-type {\n        vertical-align: middle;\n    }\n\n    .dataframe tbody tr th {\n        vertical-align: top;\n    }\n\n    .dataframe thead th {\n        text-align: right;\n    }\n</style>\n<table border=\"1\" class=\"dataframe\">\n  <thead>\n    <tr style=\"text-align: right;\">\n      <th></th>\n      <th>PERMNO</th>\n      <th>date</th>\n      <th>rankdate</th>\n      <th>NCUSIP</th>\n      <th>PRC</th>\n      <th>RET</th>\n      <th>SHROUT</th>\n      <th>CFACSHR</th>\n      <th>vwretd</th>\n      <th>CUSIP</th>\n      <th>...</th>\n      <th>ann_cfacshr</th>\n      <th>Year</th>\n      <th>lag_LTG</th>\n      <th>delta_LTG</th>\n      <th>EPS</th>\n      <th>MV</th>\n      <th>lag_MV</th>\n      <th>log_RET</th>\n      <th>forecast_error</th>\n      <th>pe</th>\n    </tr>\n  </thead>\n  <tbody>\n    <tr>\n      <th>0</th>\n      <td>10057</td>\n      <td>1977-10-31</td>\n      <td>197710</td>\n      <td>00462610</td>\n      <td>11.12500</td>\n      <td>-0.101010</td>\n      <td>4410</td>\n      <td>1.0</td>\n      <td>-0.039278</td>\n      <td>00462610</td>\n      <td>...</td>\n      <td>1.0</td>\n      <td>1977</td>\n      <td>NaN</td>\n      <td>NaN</td>\n      <td>0.65</td>\n      <td>4.906125e+04</td>\n      <td>NaN</td>\n      <td>-0.106483</td>\n      <td>NaN</td>\n      <td>2.839978</td>\n    </tr>\n    <tr>\n      <th>1</th>\n      <td>10057</td>\n      <td>1977-11-30</td>\n      <td>197711</td>\n      <td>00462610</td>\n      <td>13.25000</td>\n      <td>0.204494</td>\n      <td>4410</td>\n      <td>1.0</td>\n      <td>0.045440</td>\n      <td>00462610</td>\n      <td>...</td>\n      <td>1.0</td>\n      <td>1977</td>\n      <td>NaN</td>\n      <td>NaN</td>\n      <td>0.65</td>\n      <td>5.843250e+04</td>\n      <td>49061.25</td>\n      <td>0.186060</td>\n      <td>NaN</td>\n      <td>3.014780</td>\n    </tr>\n    <tr>\n      <th>2</th>\n      <td>10057</td>\n      <td>1977-12-30</td>\n      <td>197712</td>\n      <td>00462610</td>\n      <td>12.62500</td>\n      <td>-0.047170</td>\n      <td>4410</td>\n      <td>1.0</td>\n      <td>0.008223</td>\n      <td>00462610</td>\n      <td>...</td>\n      <td>1.0</td>\n      <td>1977</td>\n      <td>NaN</td>\n      <td>NaN</td>\n      <td>1.08</td>\n      <td>5.567625e+04</td>\n      <td>58432.50</td>\n      <td>-0.048319</td>\n      <td>NaN</td>\n      <td>2.458718</td>\n    </tr>\n    <tr>\n      <th>3</th>\n      <td>10057</td>\n      <td>1978-01-31</td>\n      <td>197801</td>\n      <td>00462610</td>\n      <td>12.75000</td>\n      <td>0.009901</td>\n      <td>4410</td>\n      <td>1.0</td>\n      <td>-0.055199</td>\n      <td>00462610</td>\n      <td>...</td>\n      <td>1.0</td>\n      <td>1978</td>\n      <td>NaN</td>\n      <td>NaN</td>\n      <td>1.08</td>\n      <td>5.622750e+04</td>\n      <td>55676.25</td>\n      <td>0.009852</td>\n      <td>NaN</td>\n      <td>2.468570</td>\n    </tr>\n    <tr>\n      <th>4</th>\n      <td>10057</td>\n      <td>1978-02-28</td>\n      <td>197802</td>\n      <td>00462610</td>\n      <td>13.75000</td>\n      <td>0.078431</td>\n      <td>4410</td>\n      <td>1.0</td>\n      <td>-0.009275</td>\n      <td>00462610</td>\n      <td>...</td>\n      <td>1.0</td>\n      <td>1978</td>\n      <td>NaN</td>\n      <td>NaN</td>\n      <td>1.08</td>\n      <td>6.063750e+04</td>\n      <td>56227.50</td>\n      <td>0.075507</td>\n      <td>NaN</td>\n      <td>2.544078</td>\n    </tr>\n    <tr>\n      <th>...</th>\n      <td>...</td>\n      <td>...</td>\n      <td>...</td>\n      <td>...</td>\n      <td>...</td>\n      <td>...</td>\n      <td>...</td>\n      <td>...</td>\n      <td>...</td>\n      <td>...</td>\n      <td>...</td>\n      <td>...</td>\n      <td>...</td>\n      <td>...</td>\n      <td>...</td>\n      <td>...</td>\n      <td>...</td>\n      <td>...</td>\n      <td>...</td>\n      <td>...</td>\n      <td>...</td>\n    </tr>\n    <tr>\n      <th>263032</th>\n      <td>93429</td>\n      <td>2020-09-30</td>\n      <td>202009</td>\n      <td>12503M10</td>\n      <td>87.74000</td>\n      <td>-0.044122</td>\n      <td>108758</td>\n      <td>1.0</td>\n      <td>-0.035056</td>\n      <td>12503M10</td>\n      <td>...</td>\n      <td>1.0</td>\n      <td>2020</td>\n      <td>0.0275</td>\n      <td>0.0005</td>\n      <td>3.35</td>\n      <td>9.542427e+06</td>\n      <td>9982896.82</td>\n      <td>-0.045125</td>\n      <td>NaN</td>\n      <td>3.265418</td>\n    </tr>\n    <tr>\n      <th>263033</th>\n      <td>93429</td>\n      <td>2020-10-30</td>\n      <td>202010</td>\n      <td>12503M10</td>\n      <td>81.29000</td>\n      <td>-0.073513</td>\n      <td>108042</td>\n      <td>1.0</td>\n      <td>-0.020178</td>\n      <td>12503M10</td>\n      <td>...</td>\n      <td>1.0</td>\n      <td>2020</td>\n      <td>0.0275</td>\n      <td>0.0025</td>\n      <td>3.35</td>\n      <td>8.782734e+06</td>\n      <td>9542426.92</td>\n      <td>-0.076355</td>\n      <td>NaN</td>\n      <td>3.189063</td>\n    </tr>\n    <tr>\n      <th>263034</th>\n      <td>93429</td>\n      <td>2020-11-30</td>\n      <td>202011</td>\n      <td>12503M10</td>\n      <td>91.32000</td>\n      <td>0.128552</td>\n      <td>108042</td>\n      <td>1.0</td>\n      <td>0.123707</td>\n      <td>12503M10</td>\n      <td>...</td>\n      <td>1.0</td>\n      <td>2020</td>\n      <td>0.0270</td>\n      <td>0.0079</td>\n      <td>3.35</td>\n      <td>9.866395e+06</td>\n      <td>8782734.18</td>\n      <td>0.120935</td>\n      <td>NaN</td>\n      <td>3.305409</td>\n    </tr>\n    <tr>\n      <th>263035</th>\n      <td>93429</td>\n      <td>2020-12-31</td>\n      <td>202012</td>\n      <td>12503M10</td>\n      <td>93.12000</td>\n      <td>0.019711</td>\n      <td>108042</td>\n      <td>1.0</td>\n      <td>0.045048</td>\n      <td>12503M10</td>\n      <td>...</td>\n      <td>1.0</td>\n      <td>2020</td>\n      <td>0.0214</td>\n      <td>0.0135</td>\n      <td>3.35</td>\n      <td>1.006087e+07</td>\n      <td>9866395.44</td>\n      <td>0.019519</td>\n      <td>NaN</td>\n      <td>3.324929</td>\n    </tr>\n    <tr>\n      <th>263036</th>\n      <td>93436</td>\n      <td>2020-12-31</td>\n      <td>202012</td>\n      <td>88160R10</td>\n      <td>705.66998</td>\n      <td>0.243252</td>\n      <td>959854</td>\n      <td>3.0</td>\n      <td>0.045048</td>\n      <td>88160R10</td>\n      <td>...</td>\n      <td>3.0</td>\n      <td>2020</td>\n      <td>NaN</td>\n      <td>NaN</td>\n      <td>-14.76</td>\n      <td>6.773402e+08</td>\n      <td>NaN</td>\n      <td>0.217731</td>\n      <td>NaN</td>\n      <td>NaN</td>\n    </tr>\n  </tbody>\n</table>\n<p>263037 rows × 31 columns</p>\n</div>"
     },
     "execution_count": 14,
     "metadata": {},
     "output_type": "execute_result"
    }
   ],
   "source": [
    "firm_data"
   ],
   "metadata": {
    "collapsed": false
   }
  },
  {
   "cell_type": "code",
   "execution_count": 15,
   "outputs": [],
   "source": [
    "financial_ratio = pd.read_csv('refine_financial_ratio.csv')"
   ],
   "metadata": {
    "collapsed": false
   }
  },
  {
   "cell_type": "code",
   "execution_count": 39,
   "outputs": [
    {
     "data": {
      "text/plain": "         PERMNO    datadate  rankdate     bm   pe_exi   pe_inc   dp\n0         25881  1975-12-31    197603  1.201    7.418    7.418  NaN\n1         25881  1975-12-31    197604  1.201    7.555    7.555  NaN\n2         25881  1975-12-31    197605  0.861    5.310    5.310  NaN\n3         25881  1975-12-31    197606  0.861    6.416    6.416  NaN\n4         25881  1975-12-31    197607  0.861    6.637    6.637  NaN\n...         ...         ...       ...    ...      ...      ...  ...\n2613728   80577  2019-12-31    202010  0.448   -1.651   -1.651  NaN\n2613729   80577  2019-12-31    202011  0.465   -2.156   -2.156  NaN\n2613730   80577  2019-12-31    202012  0.465   -2.031   -2.031  NaN\n2613731   19654  2020-01-31    202011    NaN -262.770 -262.770  NaN\n2613732   19654  2020-01-31    202012  0.070 -183.920 -183.920  NaN\n\n[2613733 rows x 7 columns]",
      "text/html": "<div>\n<style scoped>\n    .dataframe tbody tr th:only-of-type {\n        vertical-align: middle;\n    }\n\n    .dataframe tbody tr th {\n        vertical-align: top;\n    }\n\n    .dataframe thead th {\n        text-align: right;\n    }\n</style>\n<table border=\"1\" class=\"dataframe\">\n  <thead>\n    <tr style=\"text-align: right;\">\n      <th></th>\n      <th>PERMNO</th>\n      <th>datadate</th>\n      <th>rankdate</th>\n      <th>bm</th>\n      <th>pe_exi</th>\n      <th>pe_inc</th>\n      <th>dp</th>\n    </tr>\n  </thead>\n  <tbody>\n    <tr>\n      <th>0</th>\n      <td>25881</td>\n      <td>1975-12-31</td>\n      <td>197603</td>\n      <td>1.201</td>\n      <td>7.418</td>\n      <td>7.418</td>\n      <td>NaN</td>\n    </tr>\n    <tr>\n      <th>1</th>\n      <td>25881</td>\n      <td>1975-12-31</td>\n      <td>197604</td>\n      <td>1.201</td>\n      <td>7.555</td>\n      <td>7.555</td>\n      <td>NaN</td>\n    </tr>\n    <tr>\n      <th>2</th>\n      <td>25881</td>\n      <td>1975-12-31</td>\n      <td>197605</td>\n      <td>0.861</td>\n      <td>5.310</td>\n      <td>5.310</td>\n      <td>NaN</td>\n    </tr>\n    <tr>\n      <th>3</th>\n      <td>25881</td>\n      <td>1975-12-31</td>\n      <td>197606</td>\n      <td>0.861</td>\n      <td>6.416</td>\n      <td>6.416</td>\n      <td>NaN</td>\n    </tr>\n    <tr>\n      <th>4</th>\n      <td>25881</td>\n      <td>1975-12-31</td>\n      <td>197607</td>\n      <td>0.861</td>\n      <td>6.637</td>\n      <td>6.637</td>\n      <td>NaN</td>\n    </tr>\n    <tr>\n      <th>...</th>\n      <td>...</td>\n      <td>...</td>\n      <td>...</td>\n      <td>...</td>\n      <td>...</td>\n      <td>...</td>\n      <td>...</td>\n    </tr>\n    <tr>\n      <th>2613728</th>\n      <td>80577</td>\n      <td>2019-12-31</td>\n      <td>202010</td>\n      <td>0.448</td>\n      <td>-1.651</td>\n      <td>-1.651</td>\n      <td>NaN</td>\n    </tr>\n    <tr>\n      <th>2613729</th>\n      <td>80577</td>\n      <td>2019-12-31</td>\n      <td>202011</td>\n      <td>0.465</td>\n      <td>-2.156</td>\n      <td>-2.156</td>\n      <td>NaN</td>\n    </tr>\n    <tr>\n      <th>2613730</th>\n      <td>80577</td>\n      <td>2019-12-31</td>\n      <td>202012</td>\n      <td>0.465</td>\n      <td>-2.031</td>\n      <td>-2.031</td>\n      <td>NaN</td>\n    </tr>\n    <tr>\n      <th>2613731</th>\n      <td>19654</td>\n      <td>2020-01-31</td>\n      <td>202011</td>\n      <td>NaN</td>\n      <td>-262.770</td>\n      <td>-262.770</td>\n      <td>NaN</td>\n    </tr>\n    <tr>\n      <th>2613732</th>\n      <td>19654</td>\n      <td>2020-01-31</td>\n      <td>202012</td>\n      <td>0.070</td>\n      <td>-183.920</td>\n      <td>-183.920</td>\n      <td>NaN</td>\n    </tr>\n  </tbody>\n</table>\n<p>2613733 rows × 7 columns</p>\n</div>"
     },
     "execution_count": 39,
     "metadata": {},
     "output_type": "execute_result"
    }
   ],
   "source": [
    "financial_ratio"
   ],
   "metadata": {
    "collapsed": false
   }
  },
  {
   "cell_type": "code",
   "execution_count": 17,
   "outputs": [],
   "source": [
    "firm_data = pd.merge(firm_data, financial_ratio, how='left', on=['PERMNO', 'datadate', 'rankdate'])"
   ],
   "metadata": {
    "collapsed": false
   }
  },
  {
   "cell_type": "code",
   "execution_count": 18,
   "outputs": [
    {
     "name": "stderr",
     "output_type": "stream",
     "text": [
      "C:\\Users\\ASUS\\Desktop\\LEARN\\python\\Anomaly\\venv\\Lib\\site-packages\\pandas\\core\\arraylike.py:402: RuntimeWarning: invalid value encountered in log\n",
      "  result = getattr(ufunc, method)(*inputs, **kwargs)\n"
     ]
    }
   ],
   "source": [
    "# 只取pay dividend以及earnings是positive的年份: the warnings should be fine\n",
    "firm_data['dp'] = np.log(firm_data['dp'].str.replace('%', '').astype('float') / 100)\n",
    "firm_data['pe_exi'] = np.log(firm_data['pe_exi'])\n",
    "firm_data['pe_inc'] = np.log(firm_data['pe_inc'])\n",
    "firm_data['log_RET'] = np.log(1 + firm_data['RET'])"
   ],
   "metadata": {
    "collapsed": false
   }
  },
  {
   "cell_type": "code",
   "execution_count": 19,
   "outputs": [],
   "source": [
    "firm_data.sort_values(by=['PERMNO', 'rankdate'], ascending=True, inplace=True)"
   ],
   "metadata": {
    "collapsed": false
   }
  },
  {
   "cell_type": "code",
   "execution_count": 20,
   "outputs": [
    {
     "data": {
      "text/plain": "        PERMNO        date  rankdate    NCUSIP        PRC       RET  SHROUT  \\\n0        10057  1977-10-31    197710  00462610   11.12500 -0.101010    4410   \n1        10057  1977-11-30    197711  00462610   13.25000  0.204494    4410   \n2        10057  1977-12-30    197712  00462610   12.62500 -0.047170    4410   \n3        10057  1978-01-31    197801  00462610   12.75000  0.009901    4410   \n4        10057  1978-02-28    197802  00462610   13.75000  0.078431    4410   \n...        ...         ...       ...       ...        ...       ...     ...   \n263032   93429  2020-09-30    202009  12503M10   87.74000 -0.044122  108758   \n263033   93429  2020-10-30    202010  12503M10   81.29000 -0.073513  108042   \n263034   93429  2020-11-30    202011  12503M10   91.32000  0.128552  108042   \n263035   93429  2020-12-31    202012  12503M10   93.12000  0.019711  108042   \n263036   93436  2020-12-31    202012  88160R10  705.66998  0.243252  959854   \n\n        CFACSHR    vwretd     CUSIP  ...    EPS            MV      lag_MV  \\\n0           1.0 -0.039278  00462610  ...   0.65  4.906125e+04         NaN   \n1           1.0  0.045440  00462610  ...   0.65  5.843250e+04    49061.25   \n2           1.0  0.008223  00462610  ...   1.08  5.567625e+04    58432.50   \n3           1.0 -0.055199  00462610  ...   1.08  5.622750e+04    55676.25   \n4           1.0 -0.009275  00462610  ...   1.08  6.063750e+04    56227.50   \n...         ...       ...       ...  ...    ...           ...         ...   \n263032      1.0 -0.035056  12503M10  ...   3.35  9.542427e+06  9982896.82   \n263033      1.0 -0.020178  12503M10  ...   3.35  8.782734e+06  9542426.92   \n263034      1.0  0.123707  12503M10  ...   3.35  9.866395e+06  8782734.18   \n263035      1.0  0.045048  12503M10  ...   3.35  1.006087e+07  9866395.44   \n263036      3.0  0.045048  88160R10  ... -14.76  6.773402e+08         NaN   \n\n         log_RET  forecast_error        pe     bm    pe_exi    pe_inc  \\\n0      -0.106483             NaN  2.839978  1.600  2.780247  2.780247   \n1       0.186060             NaN  3.014780    NaN       NaN       NaN   \n2      -0.048319             NaN  2.458718  1.572  2.458734  2.458734   \n3       0.009852             NaN  2.468570  1.572  2.468608  2.468608   \n4       0.075507             NaN  2.544078  1.572  2.163668  2.163668   \n...          ...             ...       ...    ...       ...       ...   \n263032 -0.045125             NaN  3.265418  0.362  3.048846  3.048846   \n263033 -0.076355             NaN  3.189063  0.362  2.972515  2.972515   \n263034  0.120935             NaN  3.305409  0.394  3.072184  3.072184   \n263035  0.019519             NaN  3.324929  0.394  3.091679  3.091679   \n263036  0.217731             NaN       NaN  0.039  6.129967  6.129967   \n\n              dp  \n0      -2.920625  \n1            NaN  \n2      -3.047026  \n3      -3.055482  \n4      -3.132698  \n...          ...  \n263032 -3.958067  \n263033 -3.877622  \n263034 -3.995405  \n263035 -4.017384  \n263036       NaN  \n\n[263037 rows x 35 columns]",
      "text/html": "<div>\n<style scoped>\n    .dataframe tbody tr th:only-of-type {\n        vertical-align: middle;\n    }\n\n    .dataframe tbody tr th {\n        vertical-align: top;\n    }\n\n    .dataframe thead th {\n        text-align: right;\n    }\n</style>\n<table border=\"1\" class=\"dataframe\">\n  <thead>\n    <tr style=\"text-align: right;\">\n      <th></th>\n      <th>PERMNO</th>\n      <th>date</th>\n      <th>rankdate</th>\n      <th>NCUSIP</th>\n      <th>PRC</th>\n      <th>RET</th>\n      <th>SHROUT</th>\n      <th>CFACSHR</th>\n      <th>vwretd</th>\n      <th>CUSIP</th>\n      <th>...</th>\n      <th>EPS</th>\n      <th>MV</th>\n      <th>lag_MV</th>\n      <th>log_RET</th>\n      <th>forecast_error</th>\n      <th>pe</th>\n      <th>bm</th>\n      <th>pe_exi</th>\n      <th>pe_inc</th>\n      <th>dp</th>\n    </tr>\n  </thead>\n  <tbody>\n    <tr>\n      <th>0</th>\n      <td>10057</td>\n      <td>1977-10-31</td>\n      <td>197710</td>\n      <td>00462610</td>\n      <td>11.12500</td>\n      <td>-0.101010</td>\n      <td>4410</td>\n      <td>1.0</td>\n      <td>-0.039278</td>\n      <td>00462610</td>\n      <td>...</td>\n      <td>0.65</td>\n      <td>4.906125e+04</td>\n      <td>NaN</td>\n      <td>-0.106483</td>\n      <td>NaN</td>\n      <td>2.839978</td>\n      <td>1.600</td>\n      <td>2.780247</td>\n      <td>2.780247</td>\n      <td>-2.920625</td>\n    </tr>\n    <tr>\n      <th>1</th>\n      <td>10057</td>\n      <td>1977-11-30</td>\n      <td>197711</td>\n      <td>00462610</td>\n      <td>13.25000</td>\n      <td>0.204494</td>\n      <td>4410</td>\n      <td>1.0</td>\n      <td>0.045440</td>\n      <td>00462610</td>\n      <td>...</td>\n      <td>0.65</td>\n      <td>5.843250e+04</td>\n      <td>49061.25</td>\n      <td>0.186060</td>\n      <td>NaN</td>\n      <td>3.014780</td>\n      <td>NaN</td>\n      <td>NaN</td>\n      <td>NaN</td>\n      <td>NaN</td>\n    </tr>\n    <tr>\n      <th>2</th>\n      <td>10057</td>\n      <td>1977-12-30</td>\n      <td>197712</td>\n      <td>00462610</td>\n      <td>12.62500</td>\n      <td>-0.047170</td>\n      <td>4410</td>\n      <td>1.0</td>\n      <td>0.008223</td>\n      <td>00462610</td>\n      <td>...</td>\n      <td>1.08</td>\n      <td>5.567625e+04</td>\n      <td>58432.50</td>\n      <td>-0.048319</td>\n      <td>NaN</td>\n      <td>2.458718</td>\n      <td>1.572</td>\n      <td>2.458734</td>\n      <td>2.458734</td>\n      <td>-3.047026</td>\n    </tr>\n    <tr>\n      <th>3</th>\n      <td>10057</td>\n      <td>1978-01-31</td>\n      <td>197801</td>\n      <td>00462610</td>\n      <td>12.75000</td>\n      <td>0.009901</td>\n      <td>4410</td>\n      <td>1.0</td>\n      <td>-0.055199</td>\n      <td>00462610</td>\n      <td>...</td>\n      <td>1.08</td>\n      <td>5.622750e+04</td>\n      <td>55676.25</td>\n      <td>0.009852</td>\n      <td>NaN</td>\n      <td>2.468570</td>\n      <td>1.572</td>\n      <td>2.468608</td>\n      <td>2.468608</td>\n      <td>-3.055482</td>\n    </tr>\n    <tr>\n      <th>4</th>\n      <td>10057</td>\n      <td>1978-02-28</td>\n      <td>197802</td>\n      <td>00462610</td>\n      <td>13.75000</td>\n      <td>0.078431</td>\n      <td>4410</td>\n      <td>1.0</td>\n      <td>-0.009275</td>\n      <td>00462610</td>\n      <td>...</td>\n      <td>1.08</td>\n      <td>6.063750e+04</td>\n      <td>56227.50</td>\n      <td>0.075507</td>\n      <td>NaN</td>\n      <td>2.544078</td>\n      <td>1.572</td>\n      <td>2.163668</td>\n      <td>2.163668</td>\n      <td>-3.132698</td>\n    </tr>\n    <tr>\n      <th>...</th>\n      <td>...</td>\n      <td>...</td>\n      <td>...</td>\n      <td>...</td>\n      <td>...</td>\n      <td>...</td>\n      <td>...</td>\n      <td>...</td>\n      <td>...</td>\n      <td>...</td>\n      <td>...</td>\n      <td>...</td>\n      <td>...</td>\n      <td>...</td>\n      <td>...</td>\n      <td>...</td>\n      <td>...</td>\n      <td>...</td>\n      <td>...</td>\n      <td>...</td>\n      <td>...</td>\n    </tr>\n    <tr>\n      <th>263032</th>\n      <td>93429</td>\n      <td>2020-09-30</td>\n      <td>202009</td>\n      <td>12503M10</td>\n      <td>87.74000</td>\n      <td>-0.044122</td>\n      <td>108758</td>\n      <td>1.0</td>\n      <td>-0.035056</td>\n      <td>12503M10</td>\n      <td>...</td>\n      <td>3.35</td>\n      <td>9.542427e+06</td>\n      <td>9982896.82</td>\n      <td>-0.045125</td>\n      <td>NaN</td>\n      <td>3.265418</td>\n      <td>0.362</td>\n      <td>3.048846</td>\n      <td>3.048846</td>\n      <td>-3.958067</td>\n    </tr>\n    <tr>\n      <th>263033</th>\n      <td>93429</td>\n      <td>2020-10-30</td>\n      <td>202010</td>\n      <td>12503M10</td>\n      <td>81.29000</td>\n      <td>-0.073513</td>\n      <td>108042</td>\n      <td>1.0</td>\n      <td>-0.020178</td>\n      <td>12503M10</td>\n      <td>...</td>\n      <td>3.35</td>\n      <td>8.782734e+06</td>\n      <td>9542426.92</td>\n      <td>-0.076355</td>\n      <td>NaN</td>\n      <td>3.189063</td>\n      <td>0.362</td>\n      <td>2.972515</td>\n      <td>2.972515</td>\n      <td>-3.877622</td>\n    </tr>\n    <tr>\n      <th>263034</th>\n      <td>93429</td>\n      <td>2020-11-30</td>\n      <td>202011</td>\n      <td>12503M10</td>\n      <td>91.32000</td>\n      <td>0.128552</td>\n      <td>108042</td>\n      <td>1.0</td>\n      <td>0.123707</td>\n      <td>12503M10</td>\n      <td>...</td>\n      <td>3.35</td>\n      <td>9.866395e+06</td>\n      <td>8782734.18</td>\n      <td>0.120935</td>\n      <td>NaN</td>\n      <td>3.305409</td>\n      <td>0.394</td>\n      <td>3.072184</td>\n      <td>3.072184</td>\n      <td>-3.995405</td>\n    </tr>\n    <tr>\n      <th>263035</th>\n      <td>93429</td>\n      <td>2020-12-31</td>\n      <td>202012</td>\n      <td>12503M10</td>\n      <td>93.12000</td>\n      <td>0.019711</td>\n      <td>108042</td>\n      <td>1.0</td>\n      <td>0.045048</td>\n      <td>12503M10</td>\n      <td>...</td>\n      <td>3.35</td>\n      <td>1.006087e+07</td>\n      <td>9866395.44</td>\n      <td>0.019519</td>\n      <td>NaN</td>\n      <td>3.324929</td>\n      <td>0.394</td>\n      <td>3.091679</td>\n      <td>3.091679</td>\n      <td>-4.017384</td>\n    </tr>\n    <tr>\n      <th>263036</th>\n      <td>93436</td>\n      <td>2020-12-31</td>\n      <td>202012</td>\n      <td>88160R10</td>\n      <td>705.66998</td>\n      <td>0.243252</td>\n      <td>959854</td>\n      <td>3.0</td>\n      <td>0.045048</td>\n      <td>88160R10</td>\n      <td>...</td>\n      <td>-14.76</td>\n      <td>6.773402e+08</td>\n      <td>NaN</td>\n      <td>0.217731</td>\n      <td>NaN</td>\n      <td>NaN</td>\n      <td>0.039</td>\n      <td>6.129967</td>\n      <td>6.129967</td>\n      <td>NaN</td>\n    </tr>\n  </tbody>\n</table>\n<p>263037 rows × 35 columns</p>\n</div>"
     },
     "execution_count": 20,
     "metadata": {},
     "output_type": "execute_result"
    }
   ],
   "source": [
    "firm_data"
   ],
   "metadata": {
    "collapsed": false
   }
  },
  {
   "cell_type": "code",
   "execution_count": 21,
   "outputs": [],
   "source": [
    "for horizon in range(1, 6):\n",
    "    name = 'return_' + str(horizon)\n",
    "    firm_data[name] = firm_data[['PERMNO', 'log_RET']].groupby(['PERMNO']).apply(lambda x: x['log_RET'].rolling(12 * horizon).sum().shift(-12 * horizon)).values"
   ],
   "metadata": {
    "collapsed": false
   }
  },
  {
   "cell_type": "code",
   "execution_count": 22,
   "outputs": [],
   "source": [
    "firm_data['return_1_3'] = firm_data['return_1'] + 0.9775926 * firm_data['return_2'] + 0.9775926 ** 2 * firm_data['return_3']"
   ],
   "metadata": {
    "collapsed": false
   }
  },
  {
   "cell_type": "code",
   "execution_count": 23,
   "outputs": [],
   "source": [
    "firm_data['return_1_5'] = firm_data['return_1_3'] + 0.9775926 ** 3 * firm_data['return_4'] + 0.9775926 ** 4 * firm_data['return_5']"
   ],
   "metadata": {
    "collapsed": false
   }
  },
  {
   "cell_type": "code",
   "execution_count": 24,
   "outputs": [],
   "source": [
    "# firm_data = firm_data[(firm_data.rankdate >= 198212)]"
   ],
   "metadata": {
    "collapsed": false
   }
  },
  {
   "cell_type": "code",
   "execution_count": 25,
   "outputs": [],
   "source": [
    "firm_data.to_csv('whole_firm_data.csv', index=False)"
   ],
   "metadata": {
    "collapsed": false
   }
  },
  {
   "cell_type": "markdown",
   "source": [
    "## LTG Portfolio"
   ],
   "metadata": {
    "collapsed": false
   }
  },
  {
   "cell_type": "code",
   "execution_count": 51,
   "outputs": [],
   "source": [
    "LTG_portfolio = pd.read_csv(\"LTG_portfolio.csv\")"
   ],
   "metadata": {
    "collapsed": false
   }
  },
  {
   "cell_type": "code",
   "execution_count": 52,
   "outputs": [
    {
     "data": {
      "text/plain": "     rankdate       Mkt  LLTG_RET  HLTG_RET  LLTG_error  HLTG_error\n0      198112 -0.028096 -0.021398 -0.042455   -0.107159   -0.431166\n1      198201 -0.026209  0.012239 -0.025446   -0.094137   -0.432261\n2      198202 -0.051126 -0.026795 -0.116379   -0.129319   -0.356391\n3      198203 -0.010101  0.024760 -0.069597   -0.124055   -0.329018\n4      198204  0.043269  0.005781  0.047966   -0.115468   -0.295532\n..        ...       ...       ...       ...         ...         ...\n464    202008  0.068442  0.067003  0.083357         NaN         NaN\n465    202009 -0.035056 -0.036290 -0.056063         NaN         NaN\n466    202010 -0.020178  0.010338 -0.035786         NaN         NaN\n467    202011  0.123707  0.264065  0.083138         NaN         NaN\n468    202012  0.045048  0.042683  0.048528         NaN         NaN\n\n[469 rows x 6 columns]",
      "text/html": "<div>\n<style scoped>\n    .dataframe tbody tr th:only-of-type {\n        vertical-align: middle;\n    }\n\n    .dataframe tbody tr th {\n        vertical-align: top;\n    }\n\n    .dataframe thead th {\n        text-align: right;\n    }\n</style>\n<table border=\"1\" class=\"dataframe\">\n  <thead>\n    <tr style=\"text-align: right;\">\n      <th></th>\n      <th>rankdate</th>\n      <th>Mkt</th>\n      <th>LLTG_RET</th>\n      <th>HLTG_RET</th>\n      <th>LLTG_error</th>\n      <th>HLTG_error</th>\n    </tr>\n  </thead>\n  <tbody>\n    <tr>\n      <th>0</th>\n      <td>198112</td>\n      <td>-0.028096</td>\n      <td>-0.021398</td>\n      <td>-0.042455</td>\n      <td>-0.107159</td>\n      <td>-0.431166</td>\n    </tr>\n    <tr>\n      <th>1</th>\n      <td>198201</td>\n      <td>-0.026209</td>\n      <td>0.012239</td>\n      <td>-0.025446</td>\n      <td>-0.094137</td>\n      <td>-0.432261</td>\n    </tr>\n    <tr>\n      <th>2</th>\n      <td>198202</td>\n      <td>-0.051126</td>\n      <td>-0.026795</td>\n      <td>-0.116379</td>\n      <td>-0.129319</td>\n      <td>-0.356391</td>\n    </tr>\n    <tr>\n      <th>3</th>\n      <td>198203</td>\n      <td>-0.010101</td>\n      <td>0.024760</td>\n      <td>-0.069597</td>\n      <td>-0.124055</td>\n      <td>-0.329018</td>\n    </tr>\n    <tr>\n      <th>4</th>\n      <td>198204</td>\n      <td>0.043269</td>\n      <td>0.005781</td>\n      <td>0.047966</td>\n      <td>-0.115468</td>\n      <td>-0.295532</td>\n    </tr>\n    <tr>\n      <th>...</th>\n      <td>...</td>\n      <td>...</td>\n      <td>...</td>\n      <td>...</td>\n      <td>...</td>\n      <td>...</td>\n    </tr>\n    <tr>\n      <th>464</th>\n      <td>202008</td>\n      <td>0.068442</td>\n      <td>0.067003</td>\n      <td>0.083357</td>\n      <td>NaN</td>\n      <td>NaN</td>\n    </tr>\n    <tr>\n      <th>465</th>\n      <td>202009</td>\n      <td>-0.035056</td>\n      <td>-0.036290</td>\n      <td>-0.056063</td>\n      <td>NaN</td>\n      <td>NaN</td>\n    </tr>\n    <tr>\n      <th>466</th>\n      <td>202010</td>\n      <td>-0.020178</td>\n      <td>0.010338</td>\n      <td>-0.035786</td>\n      <td>NaN</td>\n      <td>NaN</td>\n    </tr>\n    <tr>\n      <th>467</th>\n      <td>202011</td>\n      <td>0.123707</td>\n      <td>0.264065</td>\n      <td>0.083138</td>\n      <td>NaN</td>\n      <td>NaN</td>\n    </tr>\n    <tr>\n      <th>468</th>\n      <td>202012</td>\n      <td>0.045048</td>\n      <td>0.042683</td>\n      <td>0.048528</td>\n      <td>NaN</td>\n      <td>NaN</td>\n    </tr>\n  </tbody>\n</table>\n<p>469 rows × 6 columns</p>\n</div>"
     },
     "execution_count": 52,
     "metadata": {},
     "output_type": "execute_result"
    }
   ],
   "source": [
    "LTG_portfolio"
   ],
   "metadata": {
    "collapsed": false
   }
  },
  {
   "cell_type": "code",
   "execution_count": 53,
   "outputs": [],
   "source": [
    "LTG_portfolio['LLTG_RET'] = np.log(1 + LTG_portfolio.LLTG_RET)\n",
    "LTG_portfolio['HLTG_RET'] = np.log(1 + LTG_portfolio.HLTG_RET)\n",
    "LTG_portfolio['Mkt'] = np.log(1 + LTG_portfolio.Mkt)"
   ],
   "metadata": {
    "collapsed": false
   }
  },
  {
   "cell_type": "code",
   "execution_count": 54,
   "outputs": [],
   "source": [
    "for horizon in range(1, 6):\n",
    "    LLTG_name = 'LLTG_' + str(horizon)\n",
    "    HLTG_name = 'HLTG_' + str(horizon)\n",
    "    Mkt_name = 'Mkt_' + str(horizon)\n",
    "    LTG_portfolio[LLTG_name] = LTG_portfolio['LLTG_RET'].rolling(12 * horizon).sum().shift(-12 * horizon)\n",
    "    LTG_portfolio[HLTG_name] = LTG_portfolio['HLTG_RET'].rolling(12 * horizon).sum().shift(-12 * horizon)\n",
    "    LTG_portfolio[Mkt_name] = LTG_portfolio['Mkt'].rolling(12 * horizon).sum().shift(-12 * horizon)"
   ],
   "metadata": {
    "collapsed": false
   }
  },
  {
   "cell_type": "code",
   "execution_count": 55,
   "outputs": [],
   "source": [
    "for k in ['LLTG', 'HLTG', 'Mkt']:\n",
    "    name = k + '_1_5'\n",
    "    LTG_portfolio[name] = 0\n",
    "    for i in range(1, 6):\n",
    "        ret_period = k + '_' + str(i)\n",
    "        LTG_portfolio[name] += 0.9775926 ** (i - 1) * LTG_portfolio[ret_period]\n",
    "    name = k + '_1_3'\n",
    "    LTG_portfolio[name] = 0\n",
    "    for i in range(1, 4):\n",
    "        ret_period = k + '_' + str(i)\n",
    "        LTG_portfolio[name] += 0.9775926 ** (i - 1) * LTG_portfolio[ret_period]"
   ],
   "metadata": {
    "collapsed": false
   }
  },
  {
   "cell_type": "code",
   "execution_count": 56,
   "outputs": [
    {
     "data": {
      "text/plain": "     rankdate       Mkt  LLTG_RET  HLTG_RET  LLTG_error  HLTG_error    LLTG_1  \\\n0      198112 -0.028498 -0.021630 -0.043383   -0.107159   -0.431166  0.211874   \n1      198201 -0.026559  0.012164 -0.025775   -0.094137   -0.432261  0.245313   \n2      198202 -0.052479 -0.027160 -0.123727   -0.129319   -0.356391  0.286082   \n3      198203 -0.010152  0.024458 -0.072138   -0.124055   -0.329018  0.260708   \n4      198204  0.042359  0.005764  0.046851   -0.115468   -0.295532  0.315978   \n..        ...       ...       ...       ...         ...         ...       ...   \n464    202008  0.066202  0.064854  0.080064         NaN         NaN       NaN   \n465    202009 -0.035685 -0.036965 -0.057696         NaN         NaN       NaN   \n466    202010 -0.020384  0.010285 -0.036442         NaN         NaN       NaN   \n467    202011  0.116633  0.234333  0.079862         NaN         NaN       NaN   \n468    202012  0.044063  0.041797  0.047388         NaN         NaN       NaN   \n\n       HLTG_1     Mkt_1    LLTG_2  ...     Mkt_4    LLTG_5    HLTG_5  \\\n0    0.139978  0.185834  0.387056  ...  0.694289  1.093210  0.559803   \n1    0.227979  0.253385  0.427947  ...  0.730630  1.209745  0.750873   \n2    0.373469  0.335632  0.453414  ...  0.853102  1.215001  0.968826   \n3    0.481354  0.379874  0.429092  ...  0.915740  1.253824  1.056227   \n4    0.472635  0.409077  0.454306  ...  0.865446  1.249562  0.997219   \n..        ...       ...       ...  ...       ...       ...       ...   \n464       NaN       NaN       NaN  ...       NaN       NaN       NaN   \n465       NaN       NaN       NaN  ...       NaN       NaN       NaN   \n466       NaN       NaN       NaN  ...       NaN       NaN       NaN   \n467       NaN       NaN       NaN  ...       NaN       NaN       NaN   \n468       NaN       NaN       NaN  ...       NaN       NaN       NaN   \n\n        Mkt_5  LLTG_1_5  LLTG_1_3  HLTG_1_5  HLTG_1_3   Mkt_1_5   Mkt_1_3  \n0    0.838934  2.987294  1.191965  1.380017  0.496637  2.384419  0.969534  \n1    0.986381  3.183789  1.283658  1.811871  0.690221  2.737718  1.154211  \n2    1.085669  3.366226  1.384114  2.519928  1.003435  3.103579  1.314965  \n3    1.119210  3.384472  1.345322  2.923592  1.219958  3.267935  1.390167  \n4    1.059709  3.432027  1.435634  2.708970  1.109206  3.114300  1.337864  \n..        ...       ...       ...       ...       ...       ...       ...  \n464       NaN       NaN       NaN       NaN       NaN       NaN       NaN  \n465       NaN       NaN       NaN       NaN       NaN       NaN       NaN  \n466       NaN       NaN       NaN       NaN       NaN       NaN       NaN  \n467       NaN       NaN       NaN       NaN       NaN       NaN       NaN  \n468       NaN       NaN       NaN       NaN       NaN       NaN       NaN  \n\n[469 rows x 27 columns]",
      "text/html": "<div>\n<style scoped>\n    .dataframe tbody tr th:only-of-type {\n        vertical-align: middle;\n    }\n\n    .dataframe tbody tr th {\n        vertical-align: top;\n    }\n\n    .dataframe thead th {\n        text-align: right;\n    }\n</style>\n<table border=\"1\" class=\"dataframe\">\n  <thead>\n    <tr style=\"text-align: right;\">\n      <th></th>\n      <th>rankdate</th>\n      <th>Mkt</th>\n      <th>LLTG_RET</th>\n      <th>HLTG_RET</th>\n      <th>LLTG_error</th>\n      <th>HLTG_error</th>\n      <th>LLTG_1</th>\n      <th>HLTG_1</th>\n      <th>Mkt_1</th>\n      <th>LLTG_2</th>\n      <th>...</th>\n      <th>Mkt_4</th>\n      <th>LLTG_5</th>\n      <th>HLTG_5</th>\n      <th>Mkt_5</th>\n      <th>LLTG_1_5</th>\n      <th>LLTG_1_3</th>\n      <th>HLTG_1_5</th>\n      <th>HLTG_1_3</th>\n      <th>Mkt_1_5</th>\n      <th>Mkt_1_3</th>\n    </tr>\n  </thead>\n  <tbody>\n    <tr>\n      <th>0</th>\n      <td>198112</td>\n      <td>-0.028498</td>\n      <td>-0.021630</td>\n      <td>-0.043383</td>\n      <td>-0.107159</td>\n      <td>-0.431166</td>\n      <td>0.211874</td>\n      <td>0.139978</td>\n      <td>0.185834</td>\n      <td>0.387056</td>\n      <td>...</td>\n      <td>0.694289</td>\n      <td>1.093210</td>\n      <td>0.559803</td>\n      <td>0.838934</td>\n      <td>2.987294</td>\n      <td>1.191965</td>\n      <td>1.380017</td>\n      <td>0.496637</td>\n      <td>2.384419</td>\n      <td>0.969534</td>\n    </tr>\n    <tr>\n      <th>1</th>\n      <td>198201</td>\n      <td>-0.026559</td>\n      <td>0.012164</td>\n      <td>-0.025775</td>\n      <td>-0.094137</td>\n      <td>-0.432261</td>\n      <td>0.245313</td>\n      <td>0.227979</td>\n      <td>0.253385</td>\n      <td>0.427947</td>\n      <td>...</td>\n      <td>0.730630</td>\n      <td>1.209745</td>\n      <td>0.750873</td>\n      <td>0.986381</td>\n      <td>3.183789</td>\n      <td>1.283658</td>\n      <td>1.811871</td>\n      <td>0.690221</td>\n      <td>2.737718</td>\n      <td>1.154211</td>\n    </tr>\n    <tr>\n      <th>2</th>\n      <td>198202</td>\n      <td>-0.052479</td>\n      <td>-0.027160</td>\n      <td>-0.123727</td>\n      <td>-0.129319</td>\n      <td>-0.356391</td>\n      <td>0.286082</td>\n      <td>0.373469</td>\n      <td>0.335632</td>\n      <td>0.453414</td>\n      <td>...</td>\n      <td>0.853102</td>\n      <td>1.215001</td>\n      <td>0.968826</td>\n      <td>1.085669</td>\n      <td>3.366226</td>\n      <td>1.384114</td>\n      <td>2.519928</td>\n      <td>1.003435</td>\n      <td>3.103579</td>\n      <td>1.314965</td>\n    </tr>\n    <tr>\n      <th>3</th>\n      <td>198203</td>\n      <td>-0.010152</td>\n      <td>0.024458</td>\n      <td>-0.072138</td>\n      <td>-0.124055</td>\n      <td>-0.329018</td>\n      <td>0.260708</td>\n      <td>0.481354</td>\n      <td>0.379874</td>\n      <td>0.429092</td>\n      <td>...</td>\n      <td>0.915740</td>\n      <td>1.253824</td>\n      <td>1.056227</td>\n      <td>1.119210</td>\n      <td>3.384472</td>\n      <td>1.345322</td>\n      <td>2.923592</td>\n      <td>1.219958</td>\n      <td>3.267935</td>\n      <td>1.390167</td>\n    </tr>\n    <tr>\n      <th>4</th>\n      <td>198204</td>\n      <td>0.042359</td>\n      <td>0.005764</td>\n      <td>0.046851</td>\n      <td>-0.115468</td>\n      <td>-0.295532</td>\n      <td>0.315978</td>\n      <td>0.472635</td>\n      <td>0.409077</td>\n      <td>0.454306</td>\n      <td>...</td>\n      <td>0.865446</td>\n      <td>1.249562</td>\n      <td>0.997219</td>\n      <td>1.059709</td>\n      <td>3.432027</td>\n      <td>1.435634</td>\n      <td>2.708970</td>\n      <td>1.109206</td>\n      <td>3.114300</td>\n      <td>1.337864</td>\n    </tr>\n    <tr>\n      <th>...</th>\n      <td>...</td>\n      <td>...</td>\n      <td>...</td>\n      <td>...</td>\n      <td>...</td>\n      <td>...</td>\n      <td>...</td>\n      <td>...</td>\n      <td>...</td>\n      <td>...</td>\n      <td>...</td>\n      <td>...</td>\n      <td>...</td>\n      <td>...</td>\n      <td>...</td>\n      <td>...</td>\n      <td>...</td>\n      <td>...</td>\n      <td>...</td>\n      <td>...</td>\n      <td>...</td>\n    </tr>\n    <tr>\n      <th>464</th>\n      <td>202008</td>\n      <td>0.066202</td>\n      <td>0.064854</td>\n      <td>0.080064</td>\n      <td>NaN</td>\n      <td>NaN</td>\n      <td>NaN</td>\n      <td>NaN</td>\n      <td>NaN</td>\n      <td>NaN</td>\n      <td>...</td>\n      <td>NaN</td>\n      <td>NaN</td>\n      <td>NaN</td>\n      <td>NaN</td>\n      <td>NaN</td>\n      <td>NaN</td>\n      <td>NaN</td>\n      <td>NaN</td>\n      <td>NaN</td>\n      <td>NaN</td>\n    </tr>\n    <tr>\n      <th>465</th>\n      <td>202009</td>\n      <td>-0.035685</td>\n      <td>-0.036965</td>\n      <td>-0.057696</td>\n      <td>NaN</td>\n      <td>NaN</td>\n      <td>NaN</td>\n      <td>NaN</td>\n      <td>NaN</td>\n      <td>NaN</td>\n      <td>...</td>\n      <td>NaN</td>\n      <td>NaN</td>\n      <td>NaN</td>\n      <td>NaN</td>\n      <td>NaN</td>\n      <td>NaN</td>\n      <td>NaN</td>\n      <td>NaN</td>\n      <td>NaN</td>\n      <td>NaN</td>\n    </tr>\n    <tr>\n      <th>466</th>\n      <td>202010</td>\n      <td>-0.020384</td>\n      <td>0.010285</td>\n      <td>-0.036442</td>\n      <td>NaN</td>\n      <td>NaN</td>\n      <td>NaN</td>\n      <td>NaN</td>\n      <td>NaN</td>\n      <td>NaN</td>\n      <td>...</td>\n      <td>NaN</td>\n      <td>NaN</td>\n      <td>NaN</td>\n      <td>NaN</td>\n      <td>NaN</td>\n      <td>NaN</td>\n      <td>NaN</td>\n      <td>NaN</td>\n      <td>NaN</td>\n      <td>NaN</td>\n    </tr>\n    <tr>\n      <th>467</th>\n      <td>202011</td>\n      <td>0.116633</td>\n      <td>0.234333</td>\n      <td>0.079862</td>\n      <td>NaN</td>\n      <td>NaN</td>\n      <td>NaN</td>\n      <td>NaN</td>\n      <td>NaN</td>\n      <td>NaN</td>\n      <td>...</td>\n      <td>NaN</td>\n      <td>NaN</td>\n      <td>NaN</td>\n      <td>NaN</td>\n      <td>NaN</td>\n      <td>NaN</td>\n      <td>NaN</td>\n      <td>NaN</td>\n      <td>NaN</td>\n      <td>NaN</td>\n    </tr>\n    <tr>\n      <th>468</th>\n      <td>202012</td>\n      <td>0.044063</td>\n      <td>0.041797</td>\n      <td>0.047388</td>\n      <td>NaN</td>\n      <td>NaN</td>\n      <td>NaN</td>\n      <td>NaN</td>\n      <td>NaN</td>\n      <td>NaN</td>\n      <td>...</td>\n      <td>NaN</td>\n      <td>NaN</td>\n      <td>NaN</td>\n      <td>NaN</td>\n      <td>NaN</td>\n      <td>NaN</td>\n      <td>NaN</td>\n      <td>NaN</td>\n      <td>NaN</td>\n      <td>NaN</td>\n    </tr>\n  </tbody>\n</table>\n<p>469 rows × 27 columns</p>\n</div>"
     },
     "execution_count": 56,
     "metadata": {},
     "output_type": "execute_result"
    }
   ],
   "source": [
    "LTG_portfolio"
   ],
   "metadata": {
    "collapsed": false
   }
  },
  {
   "cell_type": "code",
   "execution_count": 57,
   "outputs": [],
   "source": [
    "LTG_portfolio = LTG_portfolio[['rankdate', 'Mkt_5', 'Mkt_3', 'Mkt_1_5', 'LLTG_1_5', 'HLTG_1_5', 'LLTG_1_3', 'HLTG_1_3', 'LLTG_error', 'HLTG_error']].reset_index(drop=True)"
   ],
   "metadata": {
    "collapsed": false
   }
  },
  {
   "cell_type": "code",
   "execution_count": 58,
   "outputs": [],
   "source": [
    "LTG_portfolio['PMO_1_5'] = LTG_portfolio['LLTG_1_5'] - LTG_portfolio['HLTG_1_5']\n",
    "LTG_portfolio['PMO_1_3'] = LTG_portfolio['LLTG_1_3'] - LTG_portfolio['HLTG_1_3']"
   ],
   "metadata": {
    "collapsed": false
   }
  },
  {
   "cell_type": "code",
   "execution_count": 59,
   "outputs": [],
   "source": [
    "LTG_portfolio['PMO_error'] = LTG_portfolio['LLTG_error'] - LTG_portfolio['HLTG_error']"
   ],
   "metadata": {
    "collapsed": false
   }
  },
  {
   "cell_type": "code",
   "execution_count": 60,
   "outputs": [],
   "source": [
    "LTG_portfolio.to_csv('LTG_portfolio_return.csv', index=False)"
   ],
   "metadata": {
    "collapsed": false
   }
  },
  {
   "cell_type": "markdown",
   "source": [
    "## FF5"
   ],
   "metadata": {
    "collapsed": false
   }
  },
  {
   "cell_type": "code",
   "execution_count": 65,
   "outputs": [],
   "source": [
    "market_data = pd.read_csv('market_level_data.csv')"
   ],
   "metadata": {
    "collapsed": false
   }
  },
  {
   "cell_type": "code",
   "execution_count": 66,
   "outputs": [
    {
     "data": {
      "text/plain": "Index(['PERMNO', 'date', 'rankdate', 'NCUSIP', 'PRC', 'RET', 'SHROUT',\n       'CFACSHR', 'vwretd', 'CUSIP', 'STATPERS', 'epspi', 'past_eps', 'at',\n       'oibdp', 'datadate', 'fyear', 'EPS_1', 'EPS_2', 'EPS_3', 'EPS_4',\n       'EPS_5', 'LTG', 'ann_cfacshr', 'Year', 'lag_LTG', 'delta_LTG', 'EPS',\n       'MV', 'lag_MV', 'log_RET', 'forecast_error', 'pe'],\n      dtype='object')"
     },
     "execution_count": 66,
     "metadata": {},
     "output_type": "execute_result"
    }
   ],
   "source": [
    "market_data.columns"
   ],
   "metadata": {
    "collapsed": false
   }
  },
  {
   "cell_type": "code",
   "execution_count": 67,
   "outputs": [],
   "source": [
    "market_data = pd.merge(market_data, financial_ratio, how='inner', on=['PERMNO', 'datadate', 'rankdate'])"
   ],
   "metadata": {
    "collapsed": false
   }
  },
  {
   "cell_type": "code",
   "execution_count": 68,
   "outputs": [],
   "source": [
    "market_data['BV'] = market_data['bm'] * market_data['MV']\n",
    "market_data['OP'] = market_data['oibdp'] / market_data['BV']\n",
    "market_data['inv'] = (market_data['at'] - market_data['at'].shift(12)) / market_data['at'].shift(12)"
   ],
   "metadata": {
    "collapsed": false
   }
  },
  {
   "cell_type": "code",
   "execution_count": 69,
   "outputs": [],
   "source": [
    "market_size = market_data.pivot_table(index='rankdate', columns='PERMNO', values='MV')"
   ],
   "metadata": {
    "collapsed": false
   }
  },
  {
   "cell_type": "code",
   "execution_count": 70,
   "outputs": [],
   "source": [
    "market_bm = market_data.pivot_table(index='rankdate', columns='PERMNO', values='bm')"
   ],
   "metadata": {
    "collapsed": false
   }
  },
  {
   "cell_type": "code",
   "execution_count": 71,
   "outputs": [],
   "source": [
    "market_inv = market_data.pivot_table(index='rankdate', columns='PERMNO', values='inv')"
   ],
   "metadata": {
    "collapsed": false
   }
  },
  {
   "cell_type": "code",
   "execution_count": 72,
   "outputs": [],
   "source": [
    "market_OP = market_data.pivot_table(index='rankdate', columns='PERMNO', values='OP')"
   ],
   "metadata": {
    "collapsed": false
   }
  },
  {
   "cell_type": "code",
   "execution_count": 73,
   "outputs": [],
   "source": [
    "mask = (~market_size.isna()) & (~market_bm.isna()) & (~market_inv.isna()) & (~market_OP.isna())"
   ],
   "metadata": {
    "collapsed": false
   }
  },
  {
   "cell_type": "code",
   "execution_count": 74,
   "outputs": [],
   "source": [
    "mask[mask.index.values % 100 != 7] = False"
   ],
   "metadata": {
    "collapsed": false
   }
  },
  {
   "cell_type": "code",
   "execution_count": 75,
   "outputs": [],
   "source": [
    "market_size = market_size[mask]\n",
    "size_rank = market_size.rank(pct = True)\n",
    "market_size[size_rank <= 0.5] = 1\n",
    "market_size[size_rank > 0.5] = 2\n",
    "market_size = market_size.fillna(method='ffill', axis=0).reset_index()"
   ],
   "metadata": {
    "collapsed": false
   }
  },
  {
   "cell_type": "code",
   "execution_count": 76,
   "outputs": [],
   "source": [
    "market_size = market_size.melt(id_vars='rankdate', var_name = 'PERMNO', value_vars=market_size.columns[1:], value_name='size_rank')\n",
    "market_data = pd.merge(market_data, market_size, how='left', on=['PERMNO', 'rankdate'])"
   ],
   "metadata": {
    "collapsed": false
   }
  },
  {
   "cell_type": "code",
   "execution_count": 77,
   "outputs": [],
   "source": [
    "market_bm = market_bm[mask]\n",
    "bm_rank = market_bm.rank(pct = True)\n",
    "market_bm[bm_rank <= 0.3] = 1\n",
    "market_bm[(bm_rank > 0.3) & (bm_rank <= 0.7)] = 2\n",
    "market_bm[bm_rank > 0.7] = 3\n",
    "market_bm = market_bm.fillna(method='ffill', axis=0).reset_index()"
   ],
   "metadata": {
    "collapsed": false
   }
  },
  {
   "cell_type": "code",
   "execution_count": 78,
   "outputs": [],
   "source": [
    "market_bm = market_bm.melt(id_vars='rankdate', var_name = 'PERMNO', value_vars=market_bm.columns[1:], value_name='bm_rank')\n",
    "market_data = pd.merge(market_data, market_bm, how='left', on=['PERMNO', 'rankdate'])"
   ],
   "metadata": {
    "collapsed": false
   }
  },
  {
   "cell_type": "code",
   "execution_count": 79,
   "outputs": [],
   "source": [
    "market_inv = market_inv[mask]\n",
    "inv_rank = market_inv.rank(pct = True)\n",
    "market_inv[inv_rank <= 0.3] = 1\n",
    "market_inv[(inv_rank > 0.3) & (inv_rank <= 0.7)] = 2\n",
    "market_inv[inv_rank > 0.7] = 3\n",
    "market_inv = market_inv.fillna(method='ffill', axis=0).reset_index()"
   ],
   "metadata": {
    "collapsed": false
   }
  },
  {
   "cell_type": "code",
   "execution_count": 80,
   "outputs": [],
   "source": [
    "market_inv = market_inv.melt(id_vars='rankdate', var_name = 'PERMNO', value_vars=market_inv.columns[1:], value_name='inv_rank')\n",
    "market_data = pd.merge(market_data, market_inv, how='left', on=['PERMNO', 'rankdate'])"
   ],
   "metadata": {
    "collapsed": false
   }
  },
  {
   "cell_type": "code",
   "execution_count": 81,
   "outputs": [],
   "source": [
    "market_OP = market_OP[mask]\n",
    "OP_rank = market_OP.rank(pct = True)\n",
    "market_OP[OP_rank <= 0.3] = 1\n",
    "market_OP[(OP_rank > 0.3) & (OP_rank <= 0.7)] = 2\n",
    "market_OP[OP_rank > 0.7] = 3\n",
    "market_OP = market_OP.fillna(method='ffill', axis=0).reset_index()"
   ],
   "metadata": {
    "collapsed": false
   }
  },
  {
   "cell_type": "code",
   "execution_count": 82,
   "outputs": [],
   "source": [
    "market_OP = market_OP.melt(id_vars='rankdate', var_name = 'PERMNO', value_vars=market_OP.columns[1:], value_name='OP_rank')\n",
    "market_data = pd.merge(market_data, market_OP, how='left', on=['PERMNO', 'rankdate'])"
   ],
   "metadata": {
    "collapsed": false
   }
  },
  {
   "cell_type": "code",
   "execution_count": 83,
   "outputs": [],
   "source": [
    "FF5 = market_data[['PERMNO', 'date', 'rankdate', 'RET', 'forecast_error', 'MV', 'vwretd', 'size_rank', 'bm_rank', 'inv_rank', 'OP_rank']]"
   ],
   "metadata": {
    "collapsed": false
   }
  },
  {
   "cell_type": "code",
   "execution_count": 84,
   "outputs": [],
   "source": [
    "FF5.to_csv('FF_5.csv', index=False)\n",
    "# Go back to R to generate FF5_data.csv"
   ],
   "metadata": {
    "collapsed": false
   }
  },
  {
   "cell_type": "markdown",
   "source": [
    "### After Generate 'FF5_data.csv' from R"
   ],
   "metadata": {
    "collapsed": false
   }
  },
  {
   "cell_type": "code",
   "execution_count": 85,
   "outputs": [],
   "source": [
    "# COME BACK TO PYTHON\n",
    "FF5_data = pd.read_csv('FF5_data.csv')"
   ],
   "metadata": {
    "collapsed": false
   }
  },
  {
   "cell_type": "code",
   "execution_count": 86,
   "outputs": [
    {
     "data": {
      "text/plain": "           date  rankdate       LTG   lag_LTG  delta_LTG       Mkt       SMB  \\\n0    1981-12-31    198112  0.134795       NaN        NaN -0.028096  0.002558   \n1    1982-01-29    198201  0.138129       NaN        NaN -0.026209  0.016150   \n2    1982-02-26    198202  0.136469       NaN        NaN -0.051126  0.045303   \n3    1982-03-31    198203  0.135071       NaN        NaN -0.010101  0.012236   \n4    1982-04-30    198204  0.137109       NaN        NaN  0.043269  0.014968   \n..          ...       ...       ...       ...        ...       ...       ...   \n464  2020-08-31    202008  0.109399  0.132837  -0.023438  0.068442 -0.033948   \n465  2020-09-30    202009  0.111855  0.129049  -0.017195 -0.035056 -0.007816   \n466  2020-10-30    202010  0.111184  0.124704  -0.013520 -0.020178  0.030701   \n467  2020-11-30    202011  0.121461  0.118143   0.003318  0.123707  0.090449   \n468  2020-12-31    202012  0.122915  0.103916   0.018999  0.045048  0.024113   \n\n          HML       RMW       CMA     f_SMB     f_HML     f_RMW     f_CMA  \n0    0.026763 -0.011074  0.002321  0.111304  0.112450 -0.146104  0.057673  \n1    0.061881 -0.067443  0.026761  0.144547  0.115336 -0.164459  0.133973  \n2    0.089231 -0.043419 -0.017813  0.082529  0.129491 -0.084413  0.051882  \n3    0.054431 -0.034200 -0.024831  0.121983  0.015837 -0.086357  0.030270  \n4   -0.050282  0.002052  0.013496  0.125409  0.003425 -0.087574  0.040326  \n..        ...       ...       ...       ...       ...       ...       ...  \n464 -0.016824  0.035089  0.015432       NaN       NaN       NaN       NaN  \n465 -0.000941 -0.011346 -0.014468       NaN       NaN       NaN       NaN  \n466  0.030603 -0.032818  0.037418       NaN       NaN       NaN       NaN  \n467  0.077020  0.006093  0.026568       NaN       NaN       NaN       NaN  \n468  0.001625  0.006728  0.031044       NaN       NaN       NaN       NaN  \n\n[469 rows x 14 columns]",
      "text/html": "<div>\n<style scoped>\n    .dataframe tbody tr th:only-of-type {\n        vertical-align: middle;\n    }\n\n    .dataframe tbody tr th {\n        vertical-align: top;\n    }\n\n    .dataframe thead th {\n        text-align: right;\n    }\n</style>\n<table border=\"1\" class=\"dataframe\">\n  <thead>\n    <tr style=\"text-align: right;\">\n      <th></th>\n      <th>date</th>\n      <th>rankdate</th>\n      <th>LTG</th>\n      <th>lag_LTG</th>\n      <th>delta_LTG</th>\n      <th>Mkt</th>\n      <th>SMB</th>\n      <th>HML</th>\n      <th>RMW</th>\n      <th>CMA</th>\n      <th>f_SMB</th>\n      <th>f_HML</th>\n      <th>f_RMW</th>\n      <th>f_CMA</th>\n    </tr>\n  </thead>\n  <tbody>\n    <tr>\n      <th>0</th>\n      <td>1981-12-31</td>\n      <td>198112</td>\n      <td>0.134795</td>\n      <td>NaN</td>\n      <td>NaN</td>\n      <td>-0.028096</td>\n      <td>0.002558</td>\n      <td>0.026763</td>\n      <td>-0.011074</td>\n      <td>0.002321</td>\n      <td>0.111304</td>\n      <td>0.112450</td>\n      <td>-0.146104</td>\n      <td>0.057673</td>\n    </tr>\n    <tr>\n      <th>1</th>\n      <td>1982-01-29</td>\n      <td>198201</td>\n      <td>0.138129</td>\n      <td>NaN</td>\n      <td>NaN</td>\n      <td>-0.026209</td>\n      <td>0.016150</td>\n      <td>0.061881</td>\n      <td>-0.067443</td>\n      <td>0.026761</td>\n      <td>0.144547</td>\n      <td>0.115336</td>\n      <td>-0.164459</td>\n      <td>0.133973</td>\n    </tr>\n    <tr>\n      <th>2</th>\n      <td>1982-02-26</td>\n      <td>198202</td>\n      <td>0.136469</td>\n      <td>NaN</td>\n      <td>NaN</td>\n      <td>-0.051126</td>\n      <td>0.045303</td>\n      <td>0.089231</td>\n      <td>-0.043419</td>\n      <td>-0.017813</td>\n      <td>0.082529</td>\n      <td>0.129491</td>\n      <td>-0.084413</td>\n      <td>0.051882</td>\n    </tr>\n    <tr>\n      <th>3</th>\n      <td>1982-03-31</td>\n      <td>198203</td>\n      <td>0.135071</td>\n      <td>NaN</td>\n      <td>NaN</td>\n      <td>-0.010101</td>\n      <td>0.012236</td>\n      <td>0.054431</td>\n      <td>-0.034200</td>\n      <td>-0.024831</td>\n      <td>0.121983</td>\n      <td>0.015837</td>\n      <td>-0.086357</td>\n      <td>0.030270</td>\n    </tr>\n    <tr>\n      <th>4</th>\n      <td>1982-04-30</td>\n      <td>198204</td>\n      <td>0.137109</td>\n      <td>NaN</td>\n      <td>NaN</td>\n      <td>0.043269</td>\n      <td>0.014968</td>\n      <td>-0.050282</td>\n      <td>0.002052</td>\n      <td>0.013496</td>\n      <td>0.125409</td>\n      <td>0.003425</td>\n      <td>-0.087574</td>\n      <td>0.040326</td>\n    </tr>\n    <tr>\n      <th>...</th>\n      <td>...</td>\n      <td>...</td>\n      <td>...</td>\n      <td>...</td>\n      <td>...</td>\n      <td>...</td>\n      <td>...</td>\n      <td>...</td>\n      <td>...</td>\n      <td>...</td>\n      <td>...</td>\n      <td>...</td>\n      <td>...</td>\n      <td>...</td>\n    </tr>\n    <tr>\n      <th>464</th>\n      <td>2020-08-31</td>\n      <td>202008</td>\n      <td>0.109399</td>\n      <td>0.132837</td>\n      <td>-0.023438</td>\n      <td>0.068442</td>\n      <td>-0.033948</td>\n      <td>-0.016824</td>\n      <td>0.035089</td>\n      <td>0.015432</td>\n      <td>NaN</td>\n      <td>NaN</td>\n      <td>NaN</td>\n      <td>NaN</td>\n    </tr>\n    <tr>\n      <th>465</th>\n      <td>2020-09-30</td>\n      <td>202009</td>\n      <td>0.111855</td>\n      <td>0.129049</td>\n      <td>-0.017195</td>\n      <td>-0.035056</td>\n      <td>-0.007816</td>\n      <td>-0.000941</td>\n      <td>-0.011346</td>\n      <td>-0.014468</td>\n      <td>NaN</td>\n      <td>NaN</td>\n      <td>NaN</td>\n      <td>NaN</td>\n    </tr>\n    <tr>\n      <th>466</th>\n      <td>2020-10-30</td>\n      <td>202010</td>\n      <td>0.111184</td>\n      <td>0.124704</td>\n      <td>-0.013520</td>\n      <td>-0.020178</td>\n      <td>0.030701</td>\n      <td>0.030603</td>\n      <td>-0.032818</td>\n      <td>0.037418</td>\n      <td>NaN</td>\n      <td>NaN</td>\n      <td>NaN</td>\n      <td>NaN</td>\n    </tr>\n    <tr>\n      <th>467</th>\n      <td>2020-11-30</td>\n      <td>202011</td>\n      <td>0.121461</td>\n      <td>0.118143</td>\n      <td>0.003318</td>\n      <td>0.123707</td>\n      <td>0.090449</td>\n      <td>0.077020</td>\n      <td>0.006093</td>\n      <td>0.026568</td>\n      <td>NaN</td>\n      <td>NaN</td>\n      <td>NaN</td>\n      <td>NaN</td>\n    </tr>\n    <tr>\n      <th>468</th>\n      <td>2020-12-31</td>\n      <td>202012</td>\n      <td>0.122915</td>\n      <td>0.103916</td>\n      <td>0.018999</td>\n      <td>0.045048</td>\n      <td>0.024113</td>\n      <td>0.001625</td>\n      <td>0.006728</td>\n      <td>0.031044</td>\n      <td>NaN</td>\n      <td>NaN</td>\n      <td>NaN</td>\n      <td>NaN</td>\n    </tr>\n  </tbody>\n</table>\n<p>469 rows × 14 columns</p>\n</div>"
     },
     "execution_count": 86,
     "metadata": {},
     "output_type": "execute_result"
    }
   ],
   "source": [
    "FF5_data"
   ],
   "metadata": {
    "collapsed": false
   }
  },
  {
   "cell_type": "code",
   "execution_count": 87,
   "outputs": [],
   "source": [
    "FF5_data['Mkt'] = np.log(1 + FF5_data['Mkt'])\n",
    "FF5_data['SMB'] = np.log(1 + FF5_data['SMB'])\n",
    "FF5_data['HML'] = np.log(1 + FF5_data['HML'])\n",
    "FF5_data['RMW'] = np.log(1 + FF5_data['RMW'])\n",
    "FF5_data['CMA'] = np.log(1 + FF5_data['CMA'])"
   ],
   "metadata": {
    "collapsed": false
   }
  },
  {
   "cell_type": "code",
   "execution_count": 88,
   "outputs": [],
   "source": [
    "FF5_data['Mkt_1_5'] =FF5_data['Mkt'].rolling(60).sum().shift(-60)\n",
    "for factor in ['SMB', 'HML', 'RMW', 'CMA']:\n",
    "    for horizon in range(1, 6):\n",
    "        name = factor + '_' + str(horizon)\n",
    "        FF5_data[name] = FF5_data[factor].rolling(12 * horizon).sum().shift(-12 * horizon)"
   ],
   "metadata": {
    "collapsed": false
   }
  },
  {
   "cell_type": "code",
   "execution_count": 89,
   "outputs": [],
   "source": [
    "for factor in ['SMB', 'HML', 'RMW', 'CMA']:\n",
    "    name = factor + '_1_5'\n",
    "    FF5_data[name] = 0\n",
    "    for i in range(1, 6):\n",
    "        ret_period = factor + '_' + str(i)\n",
    "        FF5_data[name] += 0.9775926 ** (i - 1) * FF5_data[ret_period]"
   ],
   "metadata": {
    "collapsed": false
   }
  },
  {
   "cell_type": "code",
   "execution_count": 90,
   "outputs": [],
   "source": [
    "FF5_data.to_csv('FF5_data.csv', index=False)"
   ],
   "metadata": {
    "collapsed": false
   }
  },
  {
   "cell_type": "code",
   "execution_count": 91,
   "outputs": [
    {
     "data": {
      "text/plain": "           date  rankdate       LTG   lag_LTG  delta_LTG       Mkt       SMB  \\\n0    1981-12-31    198112  0.134795       NaN        NaN -0.028498  0.002554   \n1    1982-01-29    198201  0.138129       NaN        NaN -0.026559  0.016021   \n2    1982-02-26    198202  0.136469       NaN        NaN -0.052479  0.044307   \n3    1982-03-31    198203  0.135071       NaN        NaN -0.010152  0.012162   \n4    1982-04-30    198204  0.137109       NaN        NaN  0.042359  0.014857   \n..          ...       ...       ...       ...        ...       ...       ...   \n464  2020-08-31    202008  0.109399  0.132837  -0.023438  0.066202 -0.034537   \n465  2020-09-30    202009  0.111855  0.129049  -0.017195 -0.035685 -0.007847   \n466  2020-10-30    202010  0.111184  0.124704  -0.013520 -0.020384  0.030239   \n467  2020-11-30    202011  0.121461  0.118143   0.003318  0.116633  0.086590   \n468  2020-12-31    202012  0.122915  0.103916   0.018999  0.044063  0.023827   \n\n          HML       RMW       CMA  ...  RMW_5  CMA_1  CMA_2  CMA_3  CMA_4  \\\n0    0.026411 -0.011136  0.002319  ...    NaN    NaN    NaN    NaN    NaN   \n1    0.060042 -0.069825  0.026410  ...    NaN    NaN    NaN    NaN    NaN   \n2    0.085472 -0.044389 -0.017974  ...    NaN    NaN    NaN    NaN    NaN   \n3    0.053001 -0.034799 -0.025145  ...    NaN    NaN    NaN    NaN    NaN   \n4   -0.051590  0.002049  0.013406  ...    NaN    NaN    NaN    NaN    NaN   \n..        ...       ...       ...  ...    ...    ...    ...    ...    ...   \n464 -0.016967  0.034487  0.015314  ...    NaN    NaN    NaN    NaN    NaN   \n465 -0.000942 -0.011411 -0.014573  ...    NaN    NaN    NaN    NaN    NaN   \n466  0.030144 -0.033369  0.036735  ...    NaN    NaN    NaN    NaN    NaN   \n467  0.074198  0.006074  0.026222  ...    NaN    NaN    NaN    NaN    NaN   \n468  0.001624  0.006706  0.030572  ...    NaN    NaN    NaN    NaN    NaN   \n\n     CMA_5  SMB_1_5  HML_1_5  RMW_1_5  CMA_1_5  \n0      NaN      NaN      NaN      NaN      NaN  \n1      NaN      NaN      NaN      NaN      NaN  \n2      NaN      NaN      NaN      NaN      NaN  \n3      NaN      NaN      NaN      NaN      NaN  \n4      NaN      NaN      NaN      NaN      NaN  \n..     ...      ...      ...      ...      ...  \n464    NaN      NaN      NaN      NaN      NaN  \n465    NaN      NaN      NaN      NaN      NaN  \n466    NaN      NaN      NaN      NaN      NaN  \n467    NaN      NaN      NaN      NaN      NaN  \n468    NaN      NaN      NaN      NaN      NaN  \n\n[469 rows x 39 columns]",
      "text/html": "<div>\n<style scoped>\n    .dataframe tbody tr th:only-of-type {\n        vertical-align: middle;\n    }\n\n    .dataframe tbody tr th {\n        vertical-align: top;\n    }\n\n    .dataframe thead th {\n        text-align: right;\n    }\n</style>\n<table border=\"1\" class=\"dataframe\">\n  <thead>\n    <tr style=\"text-align: right;\">\n      <th></th>\n      <th>date</th>\n      <th>rankdate</th>\n      <th>LTG</th>\n      <th>lag_LTG</th>\n      <th>delta_LTG</th>\n      <th>Mkt</th>\n      <th>SMB</th>\n      <th>HML</th>\n      <th>RMW</th>\n      <th>CMA</th>\n      <th>...</th>\n      <th>RMW_5</th>\n      <th>CMA_1</th>\n      <th>CMA_2</th>\n      <th>CMA_3</th>\n      <th>CMA_4</th>\n      <th>CMA_5</th>\n      <th>SMB_1_5</th>\n      <th>HML_1_5</th>\n      <th>RMW_1_5</th>\n      <th>CMA_1_5</th>\n    </tr>\n  </thead>\n  <tbody>\n    <tr>\n      <th>0</th>\n      <td>1981-12-31</td>\n      <td>198112</td>\n      <td>0.134795</td>\n      <td>NaN</td>\n      <td>NaN</td>\n      <td>-0.028498</td>\n      <td>0.002554</td>\n      <td>0.026411</td>\n      <td>-0.011136</td>\n      <td>0.002319</td>\n      <td>...</td>\n      <td>NaN</td>\n      <td>NaN</td>\n      <td>NaN</td>\n      <td>NaN</td>\n      <td>NaN</td>\n      <td>NaN</td>\n      <td>NaN</td>\n      <td>NaN</td>\n      <td>NaN</td>\n      <td>NaN</td>\n    </tr>\n    <tr>\n      <th>1</th>\n      <td>1982-01-29</td>\n      <td>198201</td>\n      <td>0.138129</td>\n      <td>NaN</td>\n      <td>NaN</td>\n      <td>-0.026559</td>\n      <td>0.016021</td>\n      <td>0.060042</td>\n      <td>-0.069825</td>\n      <td>0.026410</td>\n      <td>...</td>\n      <td>NaN</td>\n      <td>NaN</td>\n      <td>NaN</td>\n      <td>NaN</td>\n      <td>NaN</td>\n      <td>NaN</td>\n      <td>NaN</td>\n      <td>NaN</td>\n      <td>NaN</td>\n      <td>NaN</td>\n    </tr>\n    <tr>\n      <th>2</th>\n      <td>1982-02-26</td>\n      <td>198202</td>\n      <td>0.136469</td>\n      <td>NaN</td>\n      <td>NaN</td>\n      <td>-0.052479</td>\n      <td>0.044307</td>\n      <td>0.085472</td>\n      <td>-0.044389</td>\n      <td>-0.017974</td>\n      <td>...</td>\n      <td>NaN</td>\n      <td>NaN</td>\n      <td>NaN</td>\n      <td>NaN</td>\n      <td>NaN</td>\n      <td>NaN</td>\n      <td>NaN</td>\n      <td>NaN</td>\n      <td>NaN</td>\n      <td>NaN</td>\n    </tr>\n    <tr>\n      <th>3</th>\n      <td>1982-03-31</td>\n      <td>198203</td>\n      <td>0.135071</td>\n      <td>NaN</td>\n      <td>NaN</td>\n      <td>-0.010152</td>\n      <td>0.012162</td>\n      <td>0.053001</td>\n      <td>-0.034799</td>\n      <td>-0.025145</td>\n      <td>...</td>\n      <td>NaN</td>\n      <td>NaN</td>\n      <td>NaN</td>\n      <td>NaN</td>\n      <td>NaN</td>\n      <td>NaN</td>\n      <td>NaN</td>\n      <td>NaN</td>\n      <td>NaN</td>\n      <td>NaN</td>\n    </tr>\n    <tr>\n      <th>4</th>\n      <td>1982-04-30</td>\n      <td>198204</td>\n      <td>0.137109</td>\n      <td>NaN</td>\n      <td>NaN</td>\n      <td>0.042359</td>\n      <td>0.014857</td>\n      <td>-0.051590</td>\n      <td>0.002049</td>\n      <td>0.013406</td>\n      <td>...</td>\n      <td>NaN</td>\n      <td>NaN</td>\n      <td>NaN</td>\n      <td>NaN</td>\n      <td>NaN</td>\n      <td>NaN</td>\n      <td>NaN</td>\n      <td>NaN</td>\n      <td>NaN</td>\n      <td>NaN</td>\n    </tr>\n    <tr>\n      <th>...</th>\n      <td>...</td>\n      <td>...</td>\n      <td>...</td>\n      <td>...</td>\n      <td>...</td>\n      <td>...</td>\n      <td>...</td>\n      <td>...</td>\n      <td>...</td>\n      <td>...</td>\n      <td>...</td>\n      <td>...</td>\n      <td>...</td>\n      <td>...</td>\n      <td>...</td>\n      <td>...</td>\n      <td>...</td>\n      <td>...</td>\n      <td>...</td>\n      <td>...</td>\n      <td>...</td>\n    </tr>\n    <tr>\n      <th>464</th>\n      <td>2020-08-31</td>\n      <td>202008</td>\n      <td>0.109399</td>\n      <td>0.132837</td>\n      <td>-0.023438</td>\n      <td>0.066202</td>\n      <td>-0.034537</td>\n      <td>-0.016967</td>\n      <td>0.034487</td>\n      <td>0.015314</td>\n      <td>...</td>\n      <td>NaN</td>\n      <td>NaN</td>\n      <td>NaN</td>\n      <td>NaN</td>\n      <td>NaN</td>\n      <td>NaN</td>\n      <td>NaN</td>\n      <td>NaN</td>\n      <td>NaN</td>\n      <td>NaN</td>\n    </tr>\n    <tr>\n      <th>465</th>\n      <td>2020-09-30</td>\n      <td>202009</td>\n      <td>0.111855</td>\n      <td>0.129049</td>\n      <td>-0.017195</td>\n      <td>-0.035685</td>\n      <td>-0.007847</td>\n      <td>-0.000942</td>\n      <td>-0.011411</td>\n      <td>-0.014573</td>\n      <td>...</td>\n      <td>NaN</td>\n      <td>NaN</td>\n      <td>NaN</td>\n      <td>NaN</td>\n      <td>NaN</td>\n      <td>NaN</td>\n      <td>NaN</td>\n      <td>NaN</td>\n      <td>NaN</td>\n      <td>NaN</td>\n    </tr>\n    <tr>\n      <th>466</th>\n      <td>2020-10-30</td>\n      <td>202010</td>\n      <td>0.111184</td>\n      <td>0.124704</td>\n      <td>-0.013520</td>\n      <td>-0.020384</td>\n      <td>0.030239</td>\n      <td>0.030144</td>\n      <td>-0.033369</td>\n      <td>0.036735</td>\n      <td>...</td>\n      <td>NaN</td>\n      <td>NaN</td>\n      <td>NaN</td>\n      <td>NaN</td>\n      <td>NaN</td>\n      <td>NaN</td>\n      <td>NaN</td>\n      <td>NaN</td>\n      <td>NaN</td>\n      <td>NaN</td>\n    </tr>\n    <tr>\n      <th>467</th>\n      <td>2020-11-30</td>\n      <td>202011</td>\n      <td>0.121461</td>\n      <td>0.118143</td>\n      <td>0.003318</td>\n      <td>0.116633</td>\n      <td>0.086590</td>\n      <td>0.074198</td>\n      <td>0.006074</td>\n      <td>0.026222</td>\n      <td>...</td>\n      <td>NaN</td>\n      <td>NaN</td>\n      <td>NaN</td>\n      <td>NaN</td>\n      <td>NaN</td>\n      <td>NaN</td>\n      <td>NaN</td>\n      <td>NaN</td>\n      <td>NaN</td>\n      <td>NaN</td>\n    </tr>\n    <tr>\n      <th>468</th>\n      <td>2020-12-31</td>\n      <td>202012</td>\n      <td>0.122915</td>\n      <td>0.103916</td>\n      <td>0.018999</td>\n      <td>0.044063</td>\n      <td>0.023827</td>\n      <td>0.001624</td>\n      <td>0.006706</td>\n      <td>0.030572</td>\n      <td>...</td>\n      <td>NaN</td>\n      <td>NaN</td>\n      <td>NaN</td>\n      <td>NaN</td>\n      <td>NaN</td>\n      <td>NaN</td>\n      <td>NaN</td>\n      <td>NaN</td>\n      <td>NaN</td>\n      <td>NaN</td>\n    </tr>\n  </tbody>\n</table>\n<p>469 rows × 39 columns</p>\n</div>"
     },
     "execution_count": 91,
     "metadata": {},
     "output_type": "execute_result"
    }
   ],
   "source": [
    "FF5_data"
   ],
   "metadata": {
    "collapsed": false
   }
  }
 ],
 "metadata": {
  "kernelspec": {
   "display_name": "Python 3",
   "language": "python",
   "name": "python3"
  },
  "language_info": {
   "codemirror_mode": {
    "name": "ipython",
    "version": 2
   },
   "file_extension": ".py",
   "mimetype": "text/x-python",
   "name": "python",
   "nbconvert_exporter": "python",
   "pygments_lexer": "ipython2",
   "version": "2.7.6"
  }
 },
 "nbformat": 4,
 "nbformat_minor": 0
}
